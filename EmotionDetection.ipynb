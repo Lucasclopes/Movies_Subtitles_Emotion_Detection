{
 "cells": [
  {
   "cell_type": "markdown",
   "id": "f2753ff4",
   "metadata": {},
   "source": [
    "<div class=\"alert alert-block alert-info\">\n",
    "<center> <h1> TEXT MINING MDSAA-BA </h1> </center> <br>\n",
    "<center> <h3> EMOTION DETECTION PROJECT 2021/2022 <h3> </center>"
   ]
  },
  {
   "cell_type": "markdown",
   "id": "d4050d21",
   "metadata": {},
   "source": [
    "**Group members:** <br>\n",
    "António Fonseca r20181154 <br>\n",
    "João Carvalho r20181122 <br>\n",
    "Lucas Lopes r20181111 <br>\n",
    "Tiago Sousa r20181077"
   ]
  },
  {
   "cell_type": "markdown",
   "id": "ea95f1d3",
   "metadata": {},
   "source": [
    "<!-- <div class=\"alert alert-block alert-success\">\n",
    " -->\n",
    "#### Table of Contents<a id='title'>\n",
    "    \n",
    "<!-- </div> -->"
   ]
  },
  {
   "cell_type": "markdown",
   "id": "5dc63df8",
   "metadata": {},
   "source": [
    "* [1) Import](#import)\n",
    "    * [1.1) Import Libraries](#importlibraries)\n",
    "    * [1.2) Import the Dataset](#importdataset)\n",
    "* [2) Oversmapling and Undersampling](#overunder)\n",
    "    * [2.1) Oversampling](#over)\n",
    "    * [2.2) Undersampling](#under)\n",
    "    * [2.3) Train Balanced Dataset](#balanced)\n",
    "* [3) Preprocessing](#preprocessing)\n",
    "    * [3.1) Checking the n-grams](#ngram)\n",
    "    * [3.2) Word importance with TF-IDF](#tfidf)\n",
    "* [4) Count Vectorizer](#cv)   \n",
    "    * [4.1) Preprocess Dev dataset](#dev)\n",
    "* [5) Models](#model) \n",
    "    * [5.1) KNN Classifier](#knn)\n",
    "    * [5.2) Neural Networks](#nn)\n",
    "    * [5.3) Naive Bayes](#nb)\n",
    "    * [5.4) SVM/SVC](#svm)\n",
    "    * [5.5) Gradient Boosting](#gb)\n",
    "    * [5.6) BERT Model](#bert)\n",
    "* [6) Test set](#test) \n"
   ]
  },
  {
   "cell_type": "markdown",
   "id": "4f235dd4",
   "metadata": {},
   "source": [
    "<a class=\"anchor\" id=\"import\">\n",
    "\n",
    "## 1) Imports\n",
    "\n",
    "</a>\n",
    "\n",
    "  [Back to table of contents](#title)"
   ]
  },
  {
   "cell_type": "markdown",
   "id": "1c42e750",
   "metadata": {},
   "source": [
    "<a class=\"anchor\" id=\"importlibraries\">\n",
    "\n",
    "### 1.1) Import libraries\n",
    "\n",
    "</a>"
   ]
  },
  {
   "cell_type": "code",
   "execution_count": 1,
   "id": "psychological-emerald",
   "metadata": {},
   "outputs": [
    {
     "name": "stderr",
     "output_type": "stream",
     "text": [
      "[nltk_data] Downloading package wordnet to\n",
      "[nltk_data]     C:\\Users\\Admin\\AppData\\Roaming\\nltk_data...\n",
      "[nltk_data]   Package wordnet is already up-to-date!\n",
      "[nltk_data] Downloading package stopwords to\n",
      "[nltk_data]     C:\\Users\\Admin\\AppData\\Roaming\\nltk_data...\n",
      "[nltk_data]   Package stopwords is already up-to-date!\n",
      "[nltk_data] Downloading package omw-1.4 to\n",
      "[nltk_data]     C:\\Users\\Admin\\AppData\\Roaming\\nltk_data...\n",
      "[nltk_data]   Package omw-1.4 is already up-to-date!\n"
     ]
    }
   ],
   "source": [
    "import pandas as pd\n",
    "from tqdm import  tqdm\n",
    "import nltk\n",
    "import numpy as np\n",
    "import random\n",
    "\n",
    "from nltk import ngrams\n",
    "\n",
    "# Initial Preprocessing\n",
    "import nltk\n",
    "nltk.download('wordnet')\n",
    "nltk.download('stopwords')\n",
    "nltk.download('omw-1.4')\n",
    "\n",
    "from nltk.corpus import stopwords\n",
    "from nltk.stem.wordnet import WordNetLemmatizer\n",
    "from nltk.tokenize import word_tokenize\n",
    "from nltk.corpus import wordnet\n",
    "from nltk.stem import SnowballStemmer\n",
    "from bs4 import BeautifulSoup\n",
    "import string\n",
    "\n",
    "from sklearn.feature_extraction.text import TfidfTransformer\n",
    "\n",
    "from sklearn.neighbors import KNeighborsClassifier\n",
    "from sklearn.naive_bayes import MultinomialNB\n",
    "from sklearn import svm\n",
    "\n",
    "from sklearn.model_selection import GridSearchCV\n",
    "\n",
    "from sklearn.model_selection import train_test_split\n",
    "from sklearn.metrics import classification_report, confusion_matrix\n",
    "from sklearn.ensemble import GradientBoostingClassifier\n",
    "from sklearn.neural_network import MLPClassifier\n",
    "from sklearn.feature_extraction.text import CountVectorizer\n",
    "\n",
    "import matplotlib.pyplot as plt\n",
    "\n",
    "import warnings\n",
    "warnings.filterwarnings(\"ignore\")"
   ]
  },
  {
   "cell_type": "markdown",
   "id": "99c2f6bd",
   "metadata": {},
   "source": [
    "<a class=\"anchor\" id=\"importdataset\">\n",
    "\n",
    "### 1.2 Import datasets\n",
    "\n",
    "</a>"
   ]
  },
  {
   "cell_type": "code",
   "execution_count": 5,
   "id": "excellent-rates",
   "metadata": {},
   "outputs": [
    {
     "ename": "FileNotFoundError",
     "evalue": "[Errno 2] No such file or directory: 'data/training_set.txt'",
     "output_type": "error",
     "traceback": [
      "\u001b[1;31m---------------------------------------------------------------------------\u001b[0m",
      "\u001b[1;31mFileNotFoundError\u001b[0m                         Traceback (most recent call last)",
      "Input \u001b[1;32mIn [5]\u001b[0m, in \u001b[0;36m<cell line: 1>\u001b[1;34m()\u001b[0m\n\u001b[1;32m----> 1\u001b[0m train \u001b[38;5;241m=\u001b[39m \u001b[43mpd\u001b[49m\u001b[38;5;241;43m.\u001b[39;49m\u001b[43mread_table\u001b[49m\u001b[43m(\u001b[49m\u001b[38;5;124;43m'\u001b[39;49m\u001b[38;5;124;43mdata/training_set.txt\u001b[39;49m\u001b[38;5;124;43m'\u001b[39;49m\u001b[43m,\u001b[49m\u001b[43m \u001b[49m\u001b[43mdelimiter\u001b[49m\u001b[38;5;241;43m=\u001b[39;49m\u001b[38;5;124;43m\"\u001b[39;49m\u001b[38;5;130;43;01m\\t\u001b[39;49;00m\u001b[38;5;124;43m\"\u001b[39;49m\u001b[43m)\u001b[49m\n\u001b[0;32m      2\u001b[0m dev \u001b[38;5;241m=\u001b[39m pd\u001b[38;5;241m.\u001b[39mread_table(\u001b[38;5;124m'\u001b[39m\u001b[38;5;124mdata/dev_set.txt\u001b[39m\u001b[38;5;124m'\u001b[39m, delimiter\u001b[38;5;241m=\u001b[39m\u001b[38;5;124m\"\u001b[39m\u001b[38;5;130;01m\\t\u001b[39;00m\u001b[38;5;124m\"\u001b[39m)\n\u001b[0;32m      3\u001b[0m pd\u001b[38;5;241m.\u001b[39moptions\u001b[38;5;241m.\u001b[39mdisplay\u001b[38;5;241m.\u001b[39mmax_colwidth \u001b[38;5;241m=\u001b[39m \u001b[38;5;241m500\u001b[39m\n",
      "File \u001b[1;32m~\\anaconda3\\envs\\TextMining\\lib\\site-packages\\pandas\\util\\_decorators.py:311\u001b[0m, in \u001b[0;36mdeprecate_nonkeyword_arguments.<locals>.decorate.<locals>.wrapper\u001b[1;34m(*args, **kwargs)\u001b[0m\n\u001b[0;32m    305\u001b[0m \u001b[38;5;28;01mif\u001b[39;00m \u001b[38;5;28mlen\u001b[39m(args) \u001b[38;5;241m>\u001b[39m num_allow_args:\n\u001b[0;32m    306\u001b[0m     warnings\u001b[38;5;241m.\u001b[39mwarn(\n\u001b[0;32m    307\u001b[0m         msg\u001b[38;5;241m.\u001b[39mformat(arguments\u001b[38;5;241m=\u001b[39marguments),\n\u001b[0;32m    308\u001b[0m         \u001b[38;5;167;01mFutureWarning\u001b[39;00m,\n\u001b[0;32m    309\u001b[0m         stacklevel\u001b[38;5;241m=\u001b[39mstacklevel,\n\u001b[0;32m    310\u001b[0m     )\n\u001b[1;32m--> 311\u001b[0m \u001b[38;5;28;01mreturn\u001b[39;00m \u001b[43mfunc\u001b[49m\u001b[43m(\u001b[49m\u001b[38;5;241;43m*\u001b[39;49m\u001b[43margs\u001b[49m\u001b[43m,\u001b[49m\u001b[43m \u001b[49m\u001b[38;5;241;43m*\u001b[39;49m\u001b[38;5;241;43m*\u001b[39;49m\u001b[43mkwargs\u001b[49m\u001b[43m)\u001b[49m\n",
      "File \u001b[1;32m~\\anaconda3\\envs\\TextMining\\lib\\site-packages\\pandas\\io\\parsers\\readers.py:779\u001b[0m, in \u001b[0;36mread_table\u001b[1;34m(filepath_or_buffer, sep, delimiter, header, names, index_col, usecols, squeeze, prefix, mangle_dupe_cols, dtype, engine, converters, true_values, false_values, skipinitialspace, skiprows, skipfooter, nrows, na_values, keep_default_na, na_filter, verbose, skip_blank_lines, parse_dates, infer_datetime_format, keep_date_col, date_parser, dayfirst, cache_dates, iterator, chunksize, compression, thousands, decimal, lineterminator, quotechar, quoting, doublequote, escapechar, comment, encoding, encoding_errors, dialect, error_bad_lines, warn_bad_lines, on_bad_lines, delim_whitespace, low_memory, memory_map, float_precision, storage_options)\u001b[0m\n\u001b[0;32m    764\u001b[0m kwds_defaults \u001b[38;5;241m=\u001b[39m _refine_defaults_read(\n\u001b[0;32m    765\u001b[0m     dialect,\n\u001b[0;32m    766\u001b[0m     delimiter,\n\u001b[1;32m   (...)\u001b[0m\n\u001b[0;32m    775\u001b[0m     defaults\u001b[38;5;241m=\u001b[39m{\u001b[38;5;124m\"\u001b[39m\u001b[38;5;124mdelimiter\u001b[39m\u001b[38;5;124m\"\u001b[39m: \u001b[38;5;124m\"\u001b[39m\u001b[38;5;130;01m\\t\u001b[39;00m\u001b[38;5;124m\"\u001b[39m},\n\u001b[0;32m    776\u001b[0m )\n\u001b[0;32m    777\u001b[0m kwds\u001b[38;5;241m.\u001b[39mupdate(kwds_defaults)\n\u001b[1;32m--> 779\u001b[0m \u001b[38;5;28;01mreturn\u001b[39;00m \u001b[43m_read\u001b[49m\u001b[43m(\u001b[49m\u001b[43mfilepath_or_buffer\u001b[49m\u001b[43m,\u001b[49m\u001b[43m \u001b[49m\u001b[43mkwds\u001b[49m\u001b[43m)\u001b[49m\n",
      "File \u001b[1;32m~\\anaconda3\\envs\\TextMining\\lib\\site-packages\\pandas\\io\\parsers\\readers.py:575\u001b[0m, in \u001b[0;36m_read\u001b[1;34m(filepath_or_buffer, kwds)\u001b[0m\n\u001b[0;32m    572\u001b[0m _validate_names(kwds\u001b[38;5;241m.\u001b[39mget(\u001b[38;5;124m\"\u001b[39m\u001b[38;5;124mnames\u001b[39m\u001b[38;5;124m\"\u001b[39m, \u001b[38;5;28;01mNone\u001b[39;00m))\n\u001b[0;32m    574\u001b[0m \u001b[38;5;66;03m# Create the parser.\u001b[39;00m\n\u001b[1;32m--> 575\u001b[0m parser \u001b[38;5;241m=\u001b[39m \u001b[43mTextFileReader\u001b[49m\u001b[43m(\u001b[49m\u001b[43mfilepath_or_buffer\u001b[49m\u001b[43m,\u001b[49m\u001b[43m \u001b[49m\u001b[38;5;241;43m*\u001b[39;49m\u001b[38;5;241;43m*\u001b[39;49m\u001b[43mkwds\u001b[49m\u001b[43m)\u001b[49m\n\u001b[0;32m    577\u001b[0m \u001b[38;5;28;01mif\u001b[39;00m chunksize \u001b[38;5;129;01mor\u001b[39;00m iterator:\n\u001b[0;32m    578\u001b[0m     \u001b[38;5;28;01mreturn\u001b[39;00m parser\n",
      "File \u001b[1;32m~\\anaconda3\\envs\\TextMining\\lib\\site-packages\\pandas\\io\\parsers\\readers.py:933\u001b[0m, in \u001b[0;36mTextFileReader.__init__\u001b[1;34m(self, f, engine, **kwds)\u001b[0m\n\u001b[0;32m    930\u001b[0m     \u001b[38;5;28mself\u001b[39m\u001b[38;5;241m.\u001b[39moptions[\u001b[38;5;124m\"\u001b[39m\u001b[38;5;124mhas_index_names\u001b[39m\u001b[38;5;124m\"\u001b[39m] \u001b[38;5;241m=\u001b[39m kwds[\u001b[38;5;124m\"\u001b[39m\u001b[38;5;124mhas_index_names\u001b[39m\u001b[38;5;124m\"\u001b[39m]\n\u001b[0;32m    932\u001b[0m \u001b[38;5;28mself\u001b[39m\u001b[38;5;241m.\u001b[39mhandles: IOHandles \u001b[38;5;241m|\u001b[39m \u001b[38;5;28;01mNone\u001b[39;00m \u001b[38;5;241m=\u001b[39m \u001b[38;5;28;01mNone\u001b[39;00m\n\u001b[1;32m--> 933\u001b[0m \u001b[38;5;28mself\u001b[39m\u001b[38;5;241m.\u001b[39m_engine \u001b[38;5;241m=\u001b[39m \u001b[38;5;28;43mself\u001b[39;49m\u001b[38;5;241;43m.\u001b[39;49m\u001b[43m_make_engine\u001b[49m\u001b[43m(\u001b[49m\u001b[43mf\u001b[49m\u001b[43m,\u001b[49m\u001b[43m \u001b[49m\u001b[38;5;28;43mself\u001b[39;49m\u001b[38;5;241;43m.\u001b[39;49m\u001b[43mengine\u001b[49m\u001b[43m)\u001b[49m\n",
      "File \u001b[1;32m~\\anaconda3\\envs\\TextMining\\lib\\site-packages\\pandas\\io\\parsers\\readers.py:1217\u001b[0m, in \u001b[0;36mTextFileReader._make_engine\u001b[1;34m(self, f, engine)\u001b[0m\n\u001b[0;32m   1213\u001b[0m     mode \u001b[38;5;241m=\u001b[39m \u001b[38;5;124m\"\u001b[39m\u001b[38;5;124mrb\u001b[39m\u001b[38;5;124m\"\u001b[39m\n\u001b[0;32m   1214\u001b[0m \u001b[38;5;66;03m# error: No overload variant of \"get_handle\" matches argument types\u001b[39;00m\n\u001b[0;32m   1215\u001b[0m \u001b[38;5;66;03m# \"Union[str, PathLike[str], ReadCsvBuffer[bytes], ReadCsvBuffer[str]]\"\u001b[39;00m\n\u001b[0;32m   1216\u001b[0m \u001b[38;5;66;03m# , \"str\", \"bool\", \"Any\", \"Any\", \"Any\", \"Any\", \"Any\"\u001b[39;00m\n\u001b[1;32m-> 1217\u001b[0m \u001b[38;5;28mself\u001b[39m\u001b[38;5;241m.\u001b[39mhandles \u001b[38;5;241m=\u001b[39m \u001b[43mget_handle\u001b[49m\u001b[43m(\u001b[49m\u001b[43m  \u001b[49m\u001b[38;5;66;43;03m# type: ignore[call-overload]\u001b[39;49;00m\n\u001b[0;32m   1218\u001b[0m \u001b[43m    \u001b[49m\u001b[43mf\u001b[49m\u001b[43m,\u001b[49m\n\u001b[0;32m   1219\u001b[0m \u001b[43m    \u001b[49m\u001b[43mmode\u001b[49m\u001b[43m,\u001b[49m\n\u001b[0;32m   1220\u001b[0m \u001b[43m    \u001b[49m\u001b[43mencoding\u001b[49m\u001b[38;5;241;43m=\u001b[39;49m\u001b[38;5;28;43mself\u001b[39;49m\u001b[38;5;241;43m.\u001b[39;49m\u001b[43moptions\u001b[49m\u001b[38;5;241;43m.\u001b[39;49m\u001b[43mget\u001b[49m\u001b[43m(\u001b[49m\u001b[38;5;124;43m\"\u001b[39;49m\u001b[38;5;124;43mencoding\u001b[39;49m\u001b[38;5;124;43m\"\u001b[39;49m\u001b[43m,\u001b[49m\u001b[43m \u001b[49m\u001b[38;5;28;43;01mNone\u001b[39;49;00m\u001b[43m)\u001b[49m\u001b[43m,\u001b[49m\n\u001b[0;32m   1221\u001b[0m \u001b[43m    \u001b[49m\u001b[43mcompression\u001b[49m\u001b[38;5;241;43m=\u001b[39;49m\u001b[38;5;28;43mself\u001b[39;49m\u001b[38;5;241;43m.\u001b[39;49m\u001b[43moptions\u001b[49m\u001b[38;5;241;43m.\u001b[39;49m\u001b[43mget\u001b[49m\u001b[43m(\u001b[49m\u001b[38;5;124;43m\"\u001b[39;49m\u001b[38;5;124;43mcompression\u001b[39;49m\u001b[38;5;124;43m\"\u001b[39;49m\u001b[43m,\u001b[49m\u001b[43m \u001b[49m\u001b[38;5;28;43;01mNone\u001b[39;49;00m\u001b[43m)\u001b[49m\u001b[43m,\u001b[49m\n\u001b[0;32m   1222\u001b[0m \u001b[43m    \u001b[49m\u001b[43mmemory_map\u001b[49m\u001b[38;5;241;43m=\u001b[39;49m\u001b[38;5;28;43mself\u001b[39;49m\u001b[38;5;241;43m.\u001b[39;49m\u001b[43moptions\u001b[49m\u001b[38;5;241;43m.\u001b[39;49m\u001b[43mget\u001b[49m\u001b[43m(\u001b[49m\u001b[38;5;124;43m\"\u001b[39;49m\u001b[38;5;124;43mmemory_map\u001b[39;49m\u001b[38;5;124;43m\"\u001b[39;49m\u001b[43m,\u001b[49m\u001b[43m \u001b[49m\u001b[38;5;28;43;01mFalse\u001b[39;49;00m\u001b[43m)\u001b[49m\u001b[43m,\u001b[49m\n\u001b[0;32m   1223\u001b[0m \u001b[43m    \u001b[49m\u001b[43mis_text\u001b[49m\u001b[38;5;241;43m=\u001b[39;49m\u001b[43mis_text\u001b[49m\u001b[43m,\u001b[49m\n\u001b[0;32m   1224\u001b[0m \u001b[43m    \u001b[49m\u001b[43merrors\u001b[49m\u001b[38;5;241;43m=\u001b[39;49m\u001b[38;5;28;43mself\u001b[39;49m\u001b[38;5;241;43m.\u001b[39;49m\u001b[43moptions\u001b[49m\u001b[38;5;241;43m.\u001b[39;49m\u001b[43mget\u001b[49m\u001b[43m(\u001b[49m\u001b[38;5;124;43m\"\u001b[39;49m\u001b[38;5;124;43mencoding_errors\u001b[39;49m\u001b[38;5;124;43m\"\u001b[39;49m\u001b[43m,\u001b[49m\u001b[43m \u001b[49m\u001b[38;5;124;43m\"\u001b[39;49m\u001b[38;5;124;43mstrict\u001b[39;49m\u001b[38;5;124;43m\"\u001b[39;49m\u001b[43m)\u001b[49m\u001b[43m,\u001b[49m\n\u001b[0;32m   1225\u001b[0m \u001b[43m    \u001b[49m\u001b[43mstorage_options\u001b[49m\u001b[38;5;241;43m=\u001b[39;49m\u001b[38;5;28;43mself\u001b[39;49m\u001b[38;5;241;43m.\u001b[39;49m\u001b[43moptions\u001b[49m\u001b[38;5;241;43m.\u001b[39;49m\u001b[43mget\u001b[49m\u001b[43m(\u001b[49m\u001b[38;5;124;43m\"\u001b[39;49m\u001b[38;5;124;43mstorage_options\u001b[39;49m\u001b[38;5;124;43m\"\u001b[39;49m\u001b[43m,\u001b[49m\u001b[43m \u001b[49m\u001b[38;5;28;43;01mNone\u001b[39;49;00m\u001b[43m)\u001b[49m\u001b[43m,\u001b[49m\n\u001b[0;32m   1226\u001b[0m \u001b[43m\u001b[49m\u001b[43m)\u001b[49m\n\u001b[0;32m   1227\u001b[0m \u001b[38;5;28;01massert\u001b[39;00m \u001b[38;5;28mself\u001b[39m\u001b[38;5;241m.\u001b[39mhandles \u001b[38;5;129;01mis\u001b[39;00m \u001b[38;5;129;01mnot\u001b[39;00m \u001b[38;5;28;01mNone\u001b[39;00m\n\u001b[0;32m   1228\u001b[0m f \u001b[38;5;241m=\u001b[39m \u001b[38;5;28mself\u001b[39m\u001b[38;5;241m.\u001b[39mhandles\u001b[38;5;241m.\u001b[39mhandle\n",
      "File \u001b[1;32m~\\anaconda3\\envs\\TextMining\\lib\\site-packages\\pandas\\io\\common.py:789\u001b[0m, in \u001b[0;36mget_handle\u001b[1;34m(path_or_buf, mode, encoding, compression, memory_map, is_text, errors, storage_options)\u001b[0m\n\u001b[0;32m    784\u001b[0m \u001b[38;5;28;01melif\u001b[39;00m \u001b[38;5;28misinstance\u001b[39m(handle, \u001b[38;5;28mstr\u001b[39m):\n\u001b[0;32m    785\u001b[0m     \u001b[38;5;66;03m# Check whether the filename is to be opened in binary mode.\u001b[39;00m\n\u001b[0;32m    786\u001b[0m     \u001b[38;5;66;03m# Binary mode does not support 'encoding' and 'newline'.\u001b[39;00m\n\u001b[0;32m    787\u001b[0m     \u001b[38;5;28;01mif\u001b[39;00m ioargs\u001b[38;5;241m.\u001b[39mencoding \u001b[38;5;129;01mand\u001b[39;00m \u001b[38;5;124m\"\u001b[39m\u001b[38;5;124mb\u001b[39m\u001b[38;5;124m\"\u001b[39m \u001b[38;5;129;01mnot\u001b[39;00m \u001b[38;5;129;01min\u001b[39;00m ioargs\u001b[38;5;241m.\u001b[39mmode:\n\u001b[0;32m    788\u001b[0m         \u001b[38;5;66;03m# Encoding\u001b[39;00m\n\u001b[1;32m--> 789\u001b[0m         handle \u001b[38;5;241m=\u001b[39m \u001b[38;5;28;43mopen\u001b[39;49m\u001b[43m(\u001b[49m\n\u001b[0;32m    790\u001b[0m \u001b[43m            \u001b[49m\u001b[43mhandle\u001b[49m\u001b[43m,\u001b[49m\n\u001b[0;32m    791\u001b[0m \u001b[43m            \u001b[49m\u001b[43mioargs\u001b[49m\u001b[38;5;241;43m.\u001b[39;49m\u001b[43mmode\u001b[49m\u001b[43m,\u001b[49m\n\u001b[0;32m    792\u001b[0m \u001b[43m            \u001b[49m\u001b[43mencoding\u001b[49m\u001b[38;5;241;43m=\u001b[39;49m\u001b[43mioargs\u001b[49m\u001b[38;5;241;43m.\u001b[39;49m\u001b[43mencoding\u001b[49m\u001b[43m,\u001b[49m\n\u001b[0;32m    793\u001b[0m \u001b[43m            \u001b[49m\u001b[43merrors\u001b[49m\u001b[38;5;241;43m=\u001b[39;49m\u001b[43merrors\u001b[49m\u001b[43m,\u001b[49m\n\u001b[0;32m    794\u001b[0m \u001b[43m            \u001b[49m\u001b[43mnewline\u001b[49m\u001b[38;5;241;43m=\u001b[39;49m\u001b[38;5;124;43m\"\u001b[39;49m\u001b[38;5;124;43m\"\u001b[39;49m\u001b[43m,\u001b[49m\n\u001b[0;32m    795\u001b[0m \u001b[43m        \u001b[49m\u001b[43m)\u001b[49m\n\u001b[0;32m    796\u001b[0m     \u001b[38;5;28;01melse\u001b[39;00m:\n\u001b[0;32m    797\u001b[0m         \u001b[38;5;66;03m# Binary mode\u001b[39;00m\n\u001b[0;32m    798\u001b[0m         handle \u001b[38;5;241m=\u001b[39m \u001b[38;5;28mopen\u001b[39m(handle, ioargs\u001b[38;5;241m.\u001b[39mmode)\n",
      "\u001b[1;31mFileNotFoundError\u001b[0m: [Errno 2] No such file or directory: 'data/training_set.txt'"
     ]
    }
   ],
   "source": [
    "train = pd.read_table('data/training_set.txt', delimiter=\"\\t\")\n",
    "dev = pd.read_table('data/dev_set.txt', delimiter=\"\\t\")\n",
    "pd.options.display.max_colwidth = 500\n",
    "\n",
    "train = pd.DataFrame(data=train)\n",
    "dev = pd.DataFrame(data=dev)\n",
    "\n",
    "# display(train.head(3))\n",
    "# display(dev.head(3))"
   ]
  },
  {
   "cell_type": "code",
   "execution_count": 12,
   "id": "a8012ccc",
   "metadata": {},
   "outputs": [],
   "source": [
    "test = pd.read_table('test_results_final2.txt', delimiter=\"\\t\")"
   ]
  },
  {
   "cell_type": "code",
   "execution_count": 13,
   "id": "b4d3a333",
   "metadata": {},
   "outputs": [
    {
     "data": {
      "text/html": [
       "<div>\n",
       "<style scoped>\n",
       "    .dataframe tbody tr th:only-of-type {\n",
       "        vertical-align: middle;\n",
       "    }\n",
       "\n",
       "    .dataframe tbody tr th {\n",
       "        vertical-align: top;\n",
       "    }\n",
       "\n",
       "    .dataframe thead th {\n",
       "        text-align: right;\n",
       "    }\n",
       "</style>\n",
       "<table border=\"1\" class=\"dataframe\">\n",
       "  <thead>\n",
       "    <tr style=\"text-align: right;\">\n",
       "      <th></th>\n",
       "      <th>Come , let's go get that automobile .</th>\n",
       "      <th>2</th>\n",
       "    </tr>\n",
       "  </thead>\n",
       "  <tbody>\n",
       "    <tr>\n",
       "      <th>0</th>\n",
       "      <td>Well , some other time , then ?</td>\n",
       "      <td>2</td>\n",
       "    </tr>\n",
       "    <tr>\n",
       "      <th>1</th>\n",
       "      <td>He's in trouble . Boy ?</td>\n",
       "      <td>4</td>\n",
       "    </tr>\n",
       "    <tr>\n",
       "      <th>2</th>\n",
       "      <td>Criminal gang unit to take control .</td>\n",
       "      <td>4</td>\n",
       "    </tr>\n",
       "    <tr>\n",
       "      <th>3</th>\n",
       "      <td>By Molto . No discussion . Interview .</td>\n",
       "      <td>1</td>\n",
       "    </tr>\n",
       "    <tr>\n",
       "      <th>4</th>\n",
       "      <td>I was coming down the steps and there was the ...</td>\n",
       "      <td>4</td>\n",
       "    </tr>\n",
       "    <tr>\n",
       "      <th>...</th>\n",
       "      <td>...</td>\n",
       "      <td>...</td>\n",
       "    </tr>\n",
       "    <tr>\n",
       "      <th>1994</th>\n",
       "      <td>Let's do some good .</td>\n",
       "      <td>2</td>\n",
       "    </tr>\n",
       "    <tr>\n",
       "      <th>1995</th>\n",
       "      <td>Hey , you're looking good .</td>\n",
       "      <td>5</td>\n",
       "    </tr>\n",
       "    <tr>\n",
       "      <th>1996</th>\n",
       "      <td>Have they moved the embassy , or are you hijac...</td>\n",
       "      <td>7</td>\n",
       "    </tr>\n",
       "    <tr>\n",
       "      <th>1997</th>\n",
       "      <td>What that !</td>\n",
       "      <td>7</td>\n",
       "    </tr>\n",
       "    <tr>\n",
       "      <th>1998</th>\n",
       "      <td>Imagine interplanetary trade , how exciting th...</td>\n",
       "      <td>2</td>\n",
       "    </tr>\n",
       "  </tbody>\n",
       "</table>\n",
       "<p>1999 rows × 2 columns</p>\n",
       "</div>"
      ],
      "text/plain": [
       "                  Come , let's go get that automobile .  2\n",
       "0                       Well , some other time , then ?  2\n",
       "1                               He's in trouble . Boy ?  4\n",
       "2                  Criminal gang unit to take control .  4\n",
       "3                By Molto . No discussion . Interview .  1\n",
       "4     I was coming down the steps and there was the ...  4\n",
       "...                                                 ... ..\n",
       "1994                               Let's do some good .  2\n",
       "1995                        Hey , you're looking good .  5\n",
       "1996  Have they moved the embassy , or are you hijac...  7\n",
       "1997                                        What that !  7\n",
       "1998  Imagine interplanetary trade , how exciting th...  2\n",
       "\n",
       "[1999 rows x 2 columns]"
      ]
     },
     "execution_count": 13,
     "metadata": {},
     "output_type": "execute_result"
    }
   ],
   "source": [
    "test"
   ]
  },
  {
   "cell_type": "code",
   "execution_count": 3,
   "id": "grand-magazine",
   "metadata": {},
   "outputs": [],
   "source": [
    "# Label Counter\n",
    "def label_counter(dataframe, field):\n",
    "    \"\"\"\n",
    "    Function that receives a dataframe and the field whose labels you want to count, and\n",
    "    returns the amount of examples with those labels in the Pandas dataframe.\n",
    "    \"\"\"\n",
    "    \n",
    "    count_score = dataframe[field].value_counts()\n",
    "    \n",
    "    return count_score\n",
    "\n",
    "\n",
    "# Word Counter\n",
    "def word_counter(text_list):\n",
    "    \"\"\"\n",
    "    Function that receives a list of strings and returns the (absolute) frequency of each word in that list of strings.\n",
    "    \"\"\"\n",
    "    words_in_df = ' '.join(text_list).split()\n",
    "    \n",
    "    # Count all words \n",
    "    freq = pd.Series(words_in_df).value_counts()\n",
    "    return freq"
   ]
  },
  {
   "cell_type": "code",
   "execution_count": 4,
   "id": "possible-financing",
   "metadata": {},
   "outputs": [
    {
     "data": {
      "text/plain": [
       "1    2999\n",
       "2    2129\n",
       "8    2095\n",
       "5    1470\n",
       "4    1442\n",
       "6    1384\n",
       "3    1343\n",
       "7    1138\n",
       "Name: emotion, dtype: int64"
      ]
     },
     "execution_count": 4,
     "metadata": {},
     "output_type": "execute_result"
    }
   ],
   "source": [
    "label_counter(train, \"emotion\")\n",
    "#As we can see, the dataset is not balanced (do not focus only on accuracy)"
   ]
  },
  {
   "cell_type": "markdown",
   "id": "educational-technique",
   "metadata": {},
   "source": [
    "<a class=\"anchor\" id=\"overunder\">\n",
    "\n",
    "## 2. Oversampling and undersampling\n",
    "\n",
    "</a>\n",
    "\n",
    "  [Back to table of contents](#title)"
   ]
  },
  {
   "cell_type": "markdown",
   "id": "338adeb1",
   "metadata": {},
   "source": [
    "<a class=\"anchor\" id=\"over\">\n",
    "\n",
    "### 2.1 Oversampling\n",
    "\n",
    "</a>"
   ]
  },
  {
   "cell_type": "code",
   "execution_count": 245,
   "id": "portuguese-trustee",
   "metadata": {},
   "outputs": [],
   "source": [
    "#!pip install googletrans==3.1.0a0\n",
    "from googletrans import Translator"
   ]
  },
  {
   "cell_type": "code",
   "execution_count": 246,
   "id": "imperial-junction",
   "metadata": {},
   "outputs": [],
   "source": [
    "tl = Translator()\n",
    "\n",
    "def back_translate(string):\n",
    "    \n",
    "    language=np.random.choice(['pt','fr','ja','ar'])\n",
    "    print(language)\n",
    "    \n",
    "    \n",
    "    pt=tl.translate(string, dest=language).text\n",
    "    eng=tl.translate(pt, dest='en').text\n",
    "    \n",
    "    return eng"
   ]
  },
  {
   "cell_type": "code",
   "execution_count": 247,
   "id": "union-musician",
   "metadata": {},
   "outputs": [],
   "source": [
    "label_count= {(1): 2999,\n",
    "             (2): 2129,\n",
    "             (8): 2095,\n",
    "             (5): 1470,\n",
    "             (4): 1442,\n",
    "             (6): 1384,\n",
    "             (3): 1343,\n",
    "             (7): 1138}\n",
    "\n",
    "label_to_fill={  (1): 0,\n",
    "                 (2): 0,\n",
    "                 (8): 0,\n",
    "                 (5): 530,\n",
    "                 (4): 558,\n",
    "                 (6): 616,\n",
    "                 (3): 657,\n",
    "                 (7): 862}"
   ]
  },
  {
   "cell_type": "code",
   "execution_count": 248,
   "id": "featured-startup",
   "metadata": {
    "jupyter": {
     "outputs_hidden": true
    },
    "tags": []
   },
   "outputs": [],
   "source": [
    "for label, count in label_to_fill.items():\n",
    "\n",
    "    array=train['emotion']==label\n",
    "    array=array.values\n",
    "\n",
    "    sample=train.iloc[array].index.values\n",
    "\n",
    "    chosen=np.random.choice(sample, size=count, replace=False)\n",
    "\n",
    "    for extra in chosen:\n",
    "\n",
    "        original= train.iloc[extra]['sentence']\n",
    "\n",
    "        new=back_translate(original)\n",
    "\n",
    "        current_index=train.shape[0]+1\n",
    "\n",
    "        print(new,label)\n",
    "        train.loc[current_index]=np.array([new, label])\n",
    "    \n",
    "        print(current_index)  "
   ]
  },
  {
   "cell_type": "code",
   "execution_count": 249,
   "id": "viral-verification",
   "metadata": {},
   "outputs": [],
   "source": [
    "train.to_csv('data/train_oversample.csv')"
   ]
  },
  {
   "cell_type": "markdown",
   "id": "76e4ceb0",
   "metadata": {},
   "source": [
    "<a class=\"anchor\" id=\"under\">\n",
    "\n",
    "### 2.2) Undersampling\n",
    "\n",
    "</a>"
   ]
  },
  {
   "cell_type": "code",
   "execution_count": 250,
   "id": "broadband-moscow",
   "metadata": {},
   "outputs": [],
   "source": [
    "train_over = pd.read_csv('data/train_oversample.csv')[['sentence','emotion']]\n",
    "train_over"
   ]
  },
  {
   "cell_type": "code",
   "execution_count": 251,
   "id": "822adf3c",
   "metadata": {},
   "outputs": [],
   "source": [
    "# ! pip install imbalanced-learn\n",
    "import imblearn\n",
    "from imblearn.under_sampling import RandomUnderSampler\n",
    "\n",
    "desired_under={}\n",
    "\n",
    "desired_under[1]=2000\n",
    "desired_under[2]=2000\n",
    "desired_under[3]=2000\n",
    "desired_under[4]=2000\n",
    "desired_under[5]=2000\n",
    "desired_under[6]=2000\n",
    "desired_under[7]=2000\n",
    "desired_under[8]=2000\n",
    "\n",
    "undersample = RandomUnderSampler(sampling_strategy=desired_under)"
   ]
  },
  {
   "cell_type": "code",
   "execution_count": 252,
   "id": "a90a9377",
   "metadata": {},
   "outputs": [],
   "source": [
    "labels=train_over['emotion']\n",
    "train_u, labels_u = undersample.fit_resample(train_over, labels)\n",
    "label_counter(train_u, \"emotion\")"
   ]
  },
  {
   "cell_type": "code",
   "execution_count": 254,
   "id": "cf999e9e",
   "metadata": {},
   "outputs": [],
   "source": [
    "train_u.to_csv('data/train_balanced.csv')"
   ]
  },
  {
   "cell_type": "markdown",
   "id": "84eb5d53",
   "metadata": {},
   "source": [
    "<a class=\"anchor\" id=\"balanced\">\n",
    "\n",
    "### 2.3) Train Balanced Dataset\n",
    "\n",
    "</a>"
   ]
  },
  {
   "cell_type": "code",
   "execution_count": 5,
   "id": "730d7c99",
   "metadata": {},
   "outputs": [],
   "source": [
    "train_balanced = pd.read_csv('data/training_set_balanced.csv')[['sentence','emotion']]"
   ]
  },
  {
   "cell_type": "code",
   "execution_count": 6,
   "id": "e3dc2ba7",
   "metadata": {},
   "outputs": [
    {
     "data": {
      "text/plain": [
       "1    2000\n",
       "2    2000\n",
       "3    2000\n",
       "4    2000\n",
       "5    2000\n",
       "6    2000\n",
       "7    2000\n",
       "8    2000\n",
       "Name: emotion, dtype: int64"
      ]
     },
     "execution_count": 6,
     "metadata": {},
     "output_type": "execute_result"
    }
   ],
   "source": [
    "label_counter(train_balanced, \"emotion\")"
   ]
  },
  {
   "cell_type": "code",
   "execution_count": 7,
   "id": "bb3dc03f",
   "metadata": {},
   "outputs": [
    {
     "data": {
      "text/plain": [
       "All ?                                        3\n",
       "I miss you too .                             2\n",
       "Some days I wake up --                       2\n",
       "This is a mistake .                          2\n",
       "Oh , she did !                               2\n",
       "                                            ..\n",
       "Might as well be a hundred.                  1\n",
       "I regret your aggressiveness , [PERSON] .    1\n",
       "Your word to a breechclouted savage ?        1\n",
       "I will be forced to shoot you again.         1\n",
       "That's pretty important , all that .         1\n",
       "Name: sentence, Length: 15890, dtype: int64"
      ]
     },
     "execution_count": 7,
     "metadata": {},
     "output_type": "execute_result"
    }
   ],
   "source": [
    "train_balanced['sentence'].value_counts()"
   ]
  },
  {
   "cell_type": "code",
   "execution_count": 8,
   "id": "respected-might",
   "metadata": {},
   "outputs": [
    {
     "data": {
      "text/plain": [
       ".           9953\n",
       ",           5297\n",
       "you         3846\n",
       "I           3786\n",
       "to          3195\n",
       "the         3049\n",
       "a           2721\n",
       "?           2541\n",
       "of          1512\n",
       "!           1476\n",
       "and         1427\n",
       "[PERSON]    1393\n",
       "that        1260\n",
       "in          1225\n",
       "it          1218\n",
       "dtype: int64"
      ]
     },
     "execution_count": 8,
     "metadata": {},
     "output_type": "execute_result"
    }
   ],
   "source": [
    "word_counter(list(train_balanced['sentence']))[:15]\n",
    "# a lot os stopwords here --> let´s try to take some of this out"
   ]
  },
  {
   "cell_type": "markdown",
   "id": "oriented-genealogy",
   "metadata": {},
   "source": [
    "<a class=\"anchor\" id=\"Preprocessing\">\n",
    "\n",
    "## 3) Preprocessing\n",
    "\n",
    "</a>\n",
    "\n",
    "  [Back to table of contents](#title)"
   ]
  },
  {
   "cell_type": "code",
   "execution_count": 9,
   "id": "peaceful-amateur",
   "metadata": {},
   "outputs": [],
   "source": [
    "stop = set(stopwords.words('english'))  # 179 stop words\n",
    "# print(stop)\n",
    "\n",
    "exclude = set(string.punctuation)  # 32 punctuation\n",
    "# print(exclude)\n",
    "\n",
    "lemma = WordNetLemmatizer()\n",
    "snowball_stemmer = SnowballStemmer('english')"
   ]
  },
  {
   "cell_type": "code",
   "execution_count": 10,
   "id": "affected-birthday",
   "metadata": {},
   "outputs": [],
   "source": [
    "import re\n",
    "\n",
    "def clean(text_list, remove_stop=False, lemmatize, stemmer):\n",
    "    \"\"\"\n",
    "    Function that a receives a list of strings and preprocesses it:\n",
    "    \n",
    "    :param text_list: List of strings.\n",
    "    :param lemmatize: Tag to apply lemmatization if True.\n",
    "    :param stemmer: Tag to apply the stemmer if True.\n",
    "    \"\"\"\n",
    "    \n",
    "    updates = []\n",
    "    for j in tqdm(range(len(text_list))):\n",
    "        \n",
    "        text = text_list[j]\n",
    "        \n",
    "        # LOWERCASE TEXT\n",
    "        text = text.lower()\n",
    "        \n",
    "        # REMOVE NUMERICAL DATA AND PUNCTUATION --> EVERYTHING EXCEPT LETTERS\n",
    "        text = re.sub(\"[^a-z!?']\", ' ', text)  # ^a-z!?'\n",
    "        \n",
    "        # REMOVE STOP WORDS\n",
    "        if remove_stop:\n",
    "            text = ' '.join([word for word in text.split() if word not in stop])\n",
    "        \n",
    "        # REMOVE HTML TAGS\n",
    "        text = BeautifulSoup(text).get_text()\n",
    "    \n",
    "        \n",
    "        if lemmatize:\n",
    "            text = \" \".join(lemma.lemmatize(word) for word in text.split())\n",
    "            #text = [lem.lemmatize(word) for word in text if not word in stop_words] ?????????????????????????????????????\n",
    "\n",
    "        \n",
    "        if stemmer:\n",
    "            text = \" \".join(snowball_stemmer.stem(word) for word in text.split())\n",
    "            \n",
    "        # REMOVE EMPTY SPACES\n",
    "        text =  ' '.join(text.split())\n",
    "        \n",
    "        updates.append(text)\n",
    "        \n",
    "    return updates\n",
    "\n",
    "\n",
    "def update_df(dataframe, list_updated):\n",
    "    dataframe.update(pd.DataFrame({\"sentence\": list_updated}))"
   ]
  },
  {
   "cell_type": "code",
   "execution_count": 11,
   "id": "apart-assistant",
   "metadata": {},
   "outputs": [
    {
     "name": "stderr",
     "output_type": "stream",
     "text": [
      "100%|██████████████████████████████████████████████████████████████████████████| 16000/16000 [00:03<00:00, 4072.45it/s]\n"
     ]
    }
   ],
   "source": [
    "clean_df = train_balanced.copy()\n",
    "\n",
    "updates = clean(clean_df[\"sentence\"], remove_stop = False, lemmatize = False, stemmer = False)\n",
    "update_df(clean_df, updates)"
   ]
  },
  {
   "cell_type": "code",
   "execution_count": 13,
   "id": "6a87495c",
   "metadata": {},
   "outputs": [
    {
     "data": {
      "text/html": [
       "<div>\n",
       "<style scoped>\n",
       "    .dataframe tbody tr th:only-of-type {\n",
       "        vertical-align: middle;\n",
       "    }\n",
       "\n",
       "    .dataframe tbody tr th {\n",
       "        vertical-align: top;\n",
       "    }\n",
       "\n",
       "    .dataframe thead th {\n",
       "        text-align: right;\n",
       "    }\n",
       "</style>\n",
       "<table border=\"1\" class=\"dataframe\">\n",
       "  <thead>\n",
       "    <tr style=\"text-align: right;\">\n",
       "      <th></th>\n",
       "      <th>sentence</th>\n",
       "      <th>emotion</th>\n",
       "    </tr>\n",
       "  </thead>\n",
       "  <tbody>\n",
       "    <tr>\n",
       "      <th>0</th>\n",
       "      <td>end of the line asshole</td>\n",
       "      <td>1</td>\n",
       "    </tr>\n",
       "    <tr>\n",
       "      <th>1</th>\n",
       "      <td>wait ! wait right here !</td>\n",
       "      <td>1</td>\n",
       "    </tr>\n",
       "    <tr>\n",
       "      <th>2</th>\n",
       "      <td>who the hell asked you anyways huh ? shut up !</td>\n",
       "      <td>1</td>\n",
       "    </tr>\n",
       "  </tbody>\n",
       "</table>\n",
       "</div>"
      ],
      "text/plain": [
       "                                         sentence  emotion\n",
       "0                         end of the line asshole        1\n",
       "1                        wait ! wait right here !        1\n",
       "2  who the hell asked you anyways huh ? shut up !        1"
      ]
     },
     "execution_count": 13,
     "metadata": {},
     "output_type": "execute_result"
    }
   ],
   "source": [
    "clean_df.head(3)"
   ]
  },
  {
   "cell_type": "code",
   "execution_count": 14,
   "id": "choice-psychology",
   "metadata": {},
   "outputs": [
    {
     "data": {
      "text/plain": [
       "you       4997\n",
       "i         3825\n",
       "the       3446\n",
       "to        3240\n",
       "a         2871\n",
       "?         2575\n",
       "and       1803\n",
       "person    1659\n",
       "it        1588\n",
       "of        1548\n",
       "!         1493\n",
       "that      1432\n",
       "me        1279\n",
       "in        1278\n",
       "is        1260\n",
       "dtype: int64"
      ]
     },
     "execution_count": 14,
     "metadata": {},
     "output_type": "execute_result"
    }
   ],
   "source": [
    "# check again the most frequent words\n",
    "word_counter(updates)[:15]"
   ]
  },
  {
   "cell_type": "markdown",
   "id": "stuffed-chemical",
   "metadata": {},
   "source": [
    "<a class=\"anchor\" id=\"ngram\">\n",
    "\n",
    "### 3.1) Checking the n-grams\n",
    "\n",
    "</a>"
   ]
  },
  {
   "cell_type": "code",
   "execution_count": 15,
   "id": "after-rebound",
   "metadata": {},
   "outputs": [],
   "source": [
    "def get_top_n_grams(corpus, top_k, n):\n",
    "    \"\"\"\n",
    "    Function that a receives a list of strings and preprocesses it:\n",
    "        \n",
    "    :param corpus: list of strings\n",
    "    :param top_k: int with the number of n-grams that we want to extract\n",
    "    :param n: n gram type to be considered \n",
    "             (if n=1 extracts unigrams, if n=2 extracts bigrams, ...)\n",
    "             \n",
    "    :return: Returns a sorted dataframe in which the first column \n",
    "        contains the extracted ngrams and the second column contains\n",
    "        the respective counts\n",
    "    \"\"\"\n",
    "    vec = CountVectorizer(ngram_range=(n, n)).fit(corpus)\n",
    "    \n",
    "    bag_of_words = vec.transform(corpus)\n",
    "    \n",
    "    sum_words = bag_of_words.sum(axis=0) \n",
    "    \n",
    "    words_freq = []\n",
    "    for word, idx in vec.vocabulary_.items():\n",
    "        words_freq.append((word, sum_words[0, idx]))\n",
    "        \n",
    "    words_freq = sorted(words_freq, key=lambda x: x[1], reverse=True)\n",
    "    top_df = pd.DataFrame(words_freq[:top_k])\n",
    "    top_df.columns = [\"Ngram\", \"Freq\"]\n",
    "    \n",
    "    return top_df\n",
    "\n",
    "\n",
    "def plot_frequencies(top_df):\n",
    "    \"\"\"\n",
    "    Function that receives a dataframe from the \"get_top_n_grams\" function\n",
    "    and plots the frequencies in a bar plot.\n",
    "    \"\"\"\n",
    "    x_labels = top_df[\"Ngram\"][:30]\n",
    "    y_pos = np.arange(len(x_labels))\n",
    "    values = top_df[\"Freq\"][:30]\n",
    "    plt.bar(y_pos, values, align='center', alpha=0.5)\n",
    "    plt.xticks(y_pos, x_labels)\n",
    "    plt.ylabel('Frequencies')\n",
    "    plt.title('Words')\n",
    "    plt.xticks(rotation=90)\n",
    "    plt.show()"
   ]
  },
  {
   "cell_type": "code",
   "execution_count": 16,
   "id": "expensive-cyprus",
   "metadata": {},
   "outputs": [
    {
     "data": {
      "text/html": [
       "<div>\n",
       "<style scoped>\n",
       "    .dataframe tbody tr th:only-of-type {\n",
       "        vertical-align: middle;\n",
       "    }\n",
       "\n",
       "    .dataframe tbody tr th {\n",
       "        vertical-align: top;\n",
       "    }\n",
       "\n",
       "    .dataframe thead th {\n",
       "        text-align: right;\n",
       "    }\n",
       "</style>\n",
       "<table border=\"1\" class=\"dataframe\">\n",
       "  <thead>\n",
       "    <tr style=\"text-align: right;\">\n",
       "      <th></th>\n",
       "      <th>Ngram</th>\n",
       "      <th>Freq</th>\n",
       "    </tr>\n",
       "  </thead>\n",
       "  <tbody>\n",
       "    <tr>\n",
       "      <th>0</th>\n",
       "      <td>you re</td>\n",
       "      <td>531</td>\n",
       "    </tr>\n",
       "    <tr>\n",
       "      <th>1</th>\n",
       "      <td>in the</td>\n",
       "      <td>299</td>\n",
       "    </tr>\n",
       "    <tr>\n",
       "      <th>2</th>\n",
       "      <td>are you</td>\n",
       "      <td>278</td>\n",
       "    </tr>\n",
       "    <tr>\n",
       "      <th>3</th>\n",
       "      <td>do you</td>\n",
       "      <td>259</td>\n",
       "    </tr>\n",
       "    <tr>\n",
       "      <th>4</th>\n",
       "      <td>you know</td>\n",
       "      <td>235</td>\n",
       "    </tr>\n",
       "    <tr>\n",
       "      <th>5</th>\n",
       "      <td>want to</td>\n",
       "      <td>229</td>\n",
       "    </tr>\n",
       "    <tr>\n",
       "      <th>6</th>\n",
       "      <td>this is</td>\n",
       "      <td>218</td>\n",
       "    </tr>\n",
       "    <tr>\n",
       "      <th>7</th>\n",
       "      <td>to be</td>\n",
       "      <td>213</td>\n",
       "    </tr>\n",
       "    <tr>\n",
       "      <th>8</th>\n",
       "      <td>of the</td>\n",
       "      <td>189</td>\n",
       "    </tr>\n",
       "    <tr>\n",
       "      <th>9</th>\n",
       "      <td>we re</td>\n",
       "      <td>179</td>\n",
       "    </tr>\n",
       "  </tbody>\n",
       "</table>\n",
       "</div>"
      ],
      "text/plain": [
       "      Ngram  Freq\n",
       "0    you re   531\n",
       "1    in the   299\n",
       "2   are you   278\n",
       "3    do you   259\n",
       "4  you know   235\n",
       "5   want to   229\n",
       "6   this is   218\n",
       "7     to be   213\n",
       "8    of the   189\n",
       "9     we re   179"
      ]
     },
     "execution_count": 16,
     "metadata": {},
     "output_type": "execute_result"
    }
   ],
   "source": [
    "top_df = get_top_n_grams(updates, top_k=20, n=2)\n",
    "top_df.head(10)"
   ]
  },
  {
   "cell_type": "code",
   "execution_count": 17,
   "id": "preliminary-navigator",
   "metadata": {},
   "outputs": [
    {
     "data": {
      "image/png": "[encoded data removed]",
      "text/plain": [
       "<Figure size 432x288 with 1 Axes>"
      ]
     },
     "metadata": {
      "needs_background": "light"
     },
     "output_type": "display_data"
    }
   ],
   "source": [
    "top_df = get_top_n_grams(updates, top_k=20, n=2)\n",
    "plot_frequencies(top_df)"
   ]
  },
  {
   "cell_type": "code",
   "execution_count": 18,
   "id": "blessed-innocent",
   "metadata": {},
   "outputs": [
    {
     "data": {
      "image/png": "[encoded data removed]",
      "text/plain": [
       "<Figure size 432x288 with 1 Axes>"
      ]
     },
     "metadata": {
      "needs_background": "light"
     },
     "output_type": "display_data"
    }
   ],
   "source": [
    "top_df = get_top_n_grams(updates, top_k=40, n=3)\n",
    "plot_frequencies(top_df)"
   ]
  },
  {
   "cell_type": "markdown",
   "id": "62b97a2d",
   "metadata": {},
   "source": [
    "<a class=\"anchor\" id=\"tfidf\">\n",
    "\n",
    "### 3.2) Word importance with TF-IDF\n",
    "\n",
    "</a>"
   ]
  },
  {
   "cell_type": "code",
   "execution_count": 19,
   "id": "1c2a3e45",
   "metadata": {},
   "outputs": [],
   "source": [
    "def words_importance(train, updates, n_gram):\n",
    "    \n",
    "    # only words whose frequency is below 0.8 are considered, and we're obtaining binary vectors rather than counts\n",
    "    cv = CountVectorizer(\n",
    "        max_df=0.8,\n",
    "        binary=True,\n",
    "        ngram_range=(n_gram,n_gram)  # This parameter forces CountVectorizer to create unigram, bigram, and trigram features\n",
    "    )\n",
    "\n",
    "    # cv.fit and cv.transform --> to the train\n",
    "    X = cv.fit_transform(train[\"sentence\"])\n",
    "    print(X.shape)\n",
    "  \n",
    "    tfidf_vectorizer = TfidfTransformer().fit(X)\n",
    "    \n",
    "    feature_names = cv.get_feature_names()\n",
    "    \n",
    "    # Create empty list to store the values\n",
    "    important_grams = []\n",
    "    \n",
    "    for doc in train[\"sentence\"].values: \n",
    "        \n",
    "        # transform that line to a bigram and see the tfid of each one\n",
    "        tf_idf_vector = tfidf_vectorizer.transform(cv.transform([doc]))  \n",
    "        \n",
    "        tfidf_scores = extract_feature_scores(feature_names, tf_idf_vector.toarray())\n",
    "\n",
    "        for line in tfidf_scores:\n",
    "            if line[1] > 0.40:\n",
    "                important_grams.append(line[0])\n",
    "                \n",
    "    return set(important_grams)\n"
   ]
  },
  {
   "cell_type": "code",
   "execution_count": 270,
   "id": "9dbd4f9b",
   "metadata": {},
   "outputs": [],
   "source": [
    "important_unigrams = words_importance(train_balanced, updates, 1)\n",
    "print(len(important_unigrams))\n",
    "\n",
    "#(16000, 7465)\n",
    "#6634"
   ]
  },
  {
   "cell_type": "code",
   "execution_count": 271,
   "id": "0a36dbf1",
   "metadata": {},
   "outputs": [],
   "source": [
    "important_bigrams = words_importance(train_balanced, updates, 2)\n",
    "print(len(important_bigrams))\n",
    "\n",
    "#(16000, 41530)\n",
    "#21656"
   ]
  },
  {
   "cell_type": "code",
   "execution_count": 272,
   "id": "3e8aacc1",
   "metadata": {},
   "outputs": [],
   "source": [
    "important_trigrams = words_importance(train_balanced, updates, 3)\n",
    "print(len(important_trigrams))\n",
    "\n",
    "#(16000, 62631)\n",
    "#27247"
   ]
  },
  {
   "cell_type": "code",
   "execution_count": 274,
   "id": "4861d91a",
   "metadata": {},
   "outputs": [],
   "source": [
    "important_words = list(important_unigrams) + list(important_bigrams) + list(important_trigrams)\n",
    "print(len(important_words))\n",
    "important_words[-1]"
   ]
  },
  {
   "cell_type": "code",
   "execution_count": 275,
   "id": "63b7549b",
   "metadata": {},
   "outputs": [],
   "source": [
    "# remove the spaces between the bigrams and the trigrams \n",
    "def remove_spaces(text):\n",
    "    text=text.replace(' ','')\n",
    "    return text\n",
    "\n",
    "for i in range(len(important_words)):\n",
    "    important_words[i]=remove_spaces(important_words[i])"
   ]
  },
  {
   "cell_type": "code",
   "execution_count": 21,
   "id": "d07e43bf",
   "metadata": {},
   "outputs": [],
   "source": [
    "## In order to avoid running this every time we open our project, we extracted this list into a txt file\n",
    "# with open(\"important_words.txt\", \"w\") as output:\n",
    "#     output.write(str(important_words))"
   ]
  },
  {
   "cell_type": "code",
   "execution_count": 23,
   "id": "f35e9829",
   "metadata": {},
   "outputs": [
    {
     "data": {
      "text/plain": [
       "'couldeversay'"
      ]
     },
     "execution_count": 23,
     "metadata": {},
     "output_type": "execute_result"
    }
   ],
   "source": [
    "my_file = open(\"important_words.txt\", \"r\")\n",
    "  \n",
    "# reading the file\n",
    "data = my_file.read()\n",
    "\n",
    "data = data.replace('[\\'', '')\n",
    "important_words = data.replace('\\']', '').split(\"\\', \\'\")\n",
    "important_words[-1]"
   ]
  },
  {
   "cell_type": "code",
   "execution_count": 24,
   "id": "0e513fda",
   "metadata": {},
   "outputs": [],
   "source": [
    "def get_ngrams(text, n=2):\n",
    "    \n",
    "    value = ''\n",
    "    \n",
    "    bigrams = ngrams(text.split(), n)\n",
    "    \n",
    "    for bigram in bigrams:\n",
    "        # print(bigram)\n",
    "        gram = ''.join(word for word in bigram)\n",
    "        # print(a)\n",
    "        \n",
    "        value = value + gram + ' '\n",
    "    # print(value)\n",
    "    \n",
    "    return value  \n",
    "\n",
    "def remove_extra_spaces (mystring):\n",
    "    return ' '.join(mystring.split())\n",
    "\n",
    "def bi_tri_grams (df):\n",
    "    \n",
    "    df['unigrams'] = df['sentence'].apply(lambda x: remove_extra_spaces(x))\n",
    "\n",
    "    df['bigrams'] = df['sentence'].apply(lambda x: get_ngrams(x,2))\n",
    "\n",
    "    df['trigrams'] = df['sentence'].apply(lambda x: get_ngrams(x,3))\n",
    "    \n",
    "    df[\"sentence\"] = df[['unigrams', 'bigrams','trigrams']].agg(' '.join, axis=1)\n",
    "    \n",
    "    return df\n",
    "\n",
    "def filter_important_words (mystring):\n",
    "    \n",
    "    words=mystring.split()\n",
    "    for word in words:\n",
    "        if word not in important_words:\n",
    "            mystring=mystring.replace(word,'')\n",
    "            \n",
    "    return mystring"
   ]
  },
  {
   "cell_type": "code",
   "execution_count": 279,
   "id": "822fd61e",
   "metadata": {},
   "outputs": [],
   "source": [
    "train_preprocessed = bi_tri_grams(train_balanced)\n",
    "\n",
    "train_preprocessed['sentence'] = train_preprocessed['sentence'].apply(lambda x: filter_important_words(x) )"
   ]
  },
  {
   "cell_type": "code",
   "execution_count": 280,
   "id": "cef9e529",
   "metadata": {},
   "outputs": [],
   "source": [
    "train_preprocessed.to_csv('data/train_preprocessed.csv')"
   ]
  },
  {
   "cell_type": "code",
   "execution_count": 29,
   "id": "ea2e00a8",
   "metadata": {},
   "outputs": [],
   "source": [
    "train_preprocessed = pd.read_csv('data/train_preprocessed.csv')\n",
    "# train_preprocessed.head()"
   ]
  },
  {
   "cell_type": "markdown",
   "id": "adopted-chess",
   "metadata": {},
   "source": [
    "<a class=\"anchor\" id=\"cv\">\n",
    "\n",
    "## 4) Count Vectorizer\n",
    "\n",
    "</a>\n",
    "\n",
    "  [Back to table of contents](#title)"
   ]
  },
  {
   "cell_type": "markdown",
   "id": "2c90cb37",
   "metadata": {},
   "source": [
    "#### 1. Unigrams (with stop words)"
   ]
  },
  {
   "cell_type": "code",
   "execution_count": 25,
   "id": "ba9b660a",
   "metadata": {},
   "outputs": [
    {
     "name": "stdout",
     "output_type": "stream",
     "text": [
      "(16000, 7486)\n"
     ]
    }
   ],
   "source": [
    "cv_1 = CountVectorizer(\n",
    "    max_df=0.9,\n",
    "    binary=True,\n",
    "    ngram_range=(1,1)  \n",
    ")\n",
    "\n",
    "# cv.fit and cv.transform --> to the train\n",
    "X_1 = cv_1.fit_transform(train_balanced[\"sentence\"])\n",
    "print(X_1.shape)"
   ]
  },
  {
   "cell_type": "markdown",
   "id": "19965f9f",
   "metadata": {},
   "source": [
    "#### 2. Unigrams & Bigrams (with stop words)"
   ]
  },
  {
   "cell_type": "code",
   "execution_count": 26,
   "id": "b26a2cdb",
   "metadata": {},
   "outputs": [
    {
     "name": "stdout",
     "output_type": "stream",
     "text": [
      "(16000, 49064)\n"
     ]
    }
   ],
   "source": [
    "cv_2 = CountVectorizer(\n",
    "    max_df=0.9,\n",
    "    binary=True,\n",
    "    ngram_range=(1,2)  \n",
    ")\n",
    "\n",
    "# cv.fit and cv.transform --> to the train\n",
    "X_2 = cv_2.fit_transform(train_balanced[\"sentence\"])\n",
    "print(X_2.shape)"
   ]
  },
  {
   "cell_type": "markdown",
   "id": "31e90484",
   "metadata": {},
   "source": [
    "#### 3. Unigrams, Bigrams & Trigrams (with stop words) - (with and without TFIDF analysis)"
   ]
  },
  {
   "cell_type": "code",
   "execution_count": 27,
   "id": "6aac60a5",
   "metadata": {},
   "outputs": [
    {
     "name": "stdout",
     "output_type": "stream",
     "text": [
      "(16000, 111740)\n"
     ]
    }
   ],
   "source": [
    "cv_3 = CountVectorizer(\n",
    "    max_df=0.9,\n",
    "    binary=True,\n",
    "    ngram_range=(1,3)  \n",
    ")\n",
    "\n",
    "# cv.fit and cv.transform --> to the train\n",
    "X_3 = cv_3.fit_transform(train_balanced[\"sentence\"])\n",
    "print(X_3.shape)"
   ]
  },
  {
   "cell_type": "code",
   "execution_count": 30,
   "id": "287f93d5",
   "metadata": {},
   "outputs": [
    {
     "name": "stdout",
     "output_type": "stream",
     "text": [
      "(16000, 63965)\n"
     ]
    }
   ],
   "source": [
    "cv_3_1 = CountVectorizer(\n",
    "    max_df=0.9,\n",
    "    binary=True,\n",
    "    ngram_range=(1,1)  \n",
    ")\n",
    "\n",
    "# cv.fit and cv.transform --> to the train\n",
    "X_3_1 = cv_3_1.fit_transform(train_preprocessed[\"sentence\"])  # dataset with the TF-IDF analysis\n",
    "print(X_3_1.shape)"
   ]
  },
  {
   "cell_type": "markdown",
   "id": "56bb5464",
   "metadata": {},
   "source": [
    "#### 4. Bigrams (with stop words)"
   ]
  },
  {
   "cell_type": "code",
   "execution_count": 31,
   "id": "1ddee701",
   "metadata": {},
   "outputs": [
    {
     "name": "stdout",
     "output_type": "stream",
     "text": [
      "(16000, 41578)\n"
     ]
    }
   ],
   "source": [
    "cv_4 = CountVectorizer(\n",
    "    max_df=0.9,\n",
    "    binary=True,\n",
    "    ngram_range=(2,2)  \n",
    ")\n",
    "\n",
    "# cv.fit and cv.transform --> to the train\n",
    "X_4 = cv_4.fit_transform(train_balanced[\"sentence\"])\n",
    "print(X_4.shape)"
   ]
  },
  {
   "cell_type": "markdown",
   "id": "d6e12d15",
   "metadata": {},
   "source": [
    "#### 5. Bigrams & Trigrams (with stop words)"
   ]
  },
  {
   "cell_type": "code",
   "execution_count": 32,
   "id": "cdc78ea5",
   "metadata": {},
   "outputs": [
    {
     "name": "stdout",
     "output_type": "stream",
     "text": [
      "(16000, 104254)\n"
     ]
    }
   ],
   "source": [
    "cv_5 = CountVectorizer(\n",
    "    max_df=0.9,\n",
    "    binary=True,\n",
    "    ngram_range=(2,3)  \n",
    ")\n",
    "\n",
    "# cv.fit and cv.transform --> to the train\n",
    "X_5 = cv_5.fit_transform(train_balanced[\"sentence\"])\n",
    "print(X_5.shape)"
   ]
  },
  {
   "cell_type": "markdown",
   "id": "8c920828",
   "metadata": {},
   "source": [
    "<a class=\"anchor\" id=\"dev\">\n",
    "\n",
    "### 4.1) Preprocess Dev dataset\n",
    "\n",
    "</a>"
   ]
  },
  {
   "cell_type": "code",
   "execution_count": 288,
   "id": "d3295b95",
   "metadata": {},
   "outputs": [],
   "source": [
    "updates_dev = clean(dev[\"sentence\"], lemmatize = False, stemmer = False)\n",
    "update_df(dev, updates_dev)\n",
    "\n",
    "dev_preprocessed=bi_tri_grams (dev)\n",
    "\n",
    "dev_preprocessed['sentence'] = dev_preprocessed['sentence'].apply(lambda x: filter_important_words(x) )"
   ]
  },
  {
   "cell_type": "code",
   "execution_count": 289,
   "id": "744838ec",
   "metadata": {},
   "outputs": [],
   "source": [
    "dev_preprocessed.to_csv('data/dev_preprocessed.csv')"
   ]
  },
  {
   "cell_type": "code",
   "execution_count": 301,
   "id": "f1fa8a6f",
   "metadata": {},
   "outputs": [
    {
     "name": "stderr",
     "output_type": "stream",
     "text": [
      "100%|███████████████████████████████████████████████████████████████████████████| 1000/1000 [00:00<00:00, 11904.98it/s]\n"
     ]
    },
    {
     "data": {
      "text/html": [
       "<div>\n",
       "<style scoped>\n",
       "    .dataframe tbody tr th:only-of-type {\n",
       "        vertical-align: middle;\n",
       "    }\n",
       "\n",
       "    .dataframe tbody tr th {\n",
       "        vertical-align: top;\n",
       "    }\n",
       "\n",
       "    .dataframe thead th {\n",
       "        text-align: right;\n",
       "    }\n",
       "</style>\n",
       "<table border=\"1\" class=\"dataframe\">\n",
       "  <thead>\n",
       "    <tr style=\"text-align: right;\">\n",
       "      <th></th>\n",
       "      <th>sentence</th>\n",
       "      <th>emotion</th>\n",
       "    </tr>\n",
       "  </thead>\n",
       "  <tbody>\n",
       "    <tr>\n",
       "      <th>0</th>\n",
       "      <td>what happens to the gold in our safe ?</td>\n",
       "      <td>4</td>\n",
       "    </tr>\n",
       "    <tr>\n",
       "      <th>1</th>\n",
       "      <td>natural to get cold feet</td>\n",
       "      <td>8</td>\n",
       "    </tr>\n",
       "    <tr>\n",
       "      <th>2</th>\n",
       "      <td>not very lucky is he ?</td>\n",
       "      <td>7</td>\n",
       "    </tr>\n",
       "  </tbody>\n",
       "</table>\n",
       "</div>"
      ],
      "text/plain": [
       "                                 sentence  emotion\n",
       "0  what happens to the gold in our safe ?        4\n",
       "1                natural to get cold feet        8\n",
       "2                  not very lucky is he ?        7"
      ]
     },
     "execution_count": 301,
     "metadata": {},
     "output_type": "execute_result"
    }
   ],
   "source": [
    "updates_dev = clean(dev[\"sentence\"], remove_stop=False, lemmatize = False, stemmer = False)\n",
    "update_df(dev, updates_dev)\n",
    "\n",
    "dev.head(3)"
   ]
  },
  {
   "cell_type": "markdown",
   "id": "fabcdbe8",
   "metadata": {},
   "source": [
    "<a class=\"anchor\" id=\"models\">\n",
    "\n",
    "## 5) Models\n",
    "\n",
    "</a>\n",
    "\n",
    "  [Back to table of contents](#title)"
   ]
  },
  {
   "cell_type": "code",
   "execution_count": 33,
   "id": "918abd96",
   "metadata": {},
   "outputs": [],
   "source": [
    "def cv_vector(cv, train_set=train_balanced, dev_set=dev):\n",
    "    \n",
    "    # apply count vectorizer to the train dataset\n",
    "    X_train = cv.fit_transform(train_set[\"sentence\"])\n",
    "    y_train = np.array(train_set[\"emotion\"])\n",
    "\n",
    "    # apply count vectorizer to the dev dataset\n",
    "    X_dev = cv.transform(dev_set[\"sentence\"])\n",
    "    y_dev = np.array(dev_set[\"emotion\"])\n",
    "\n",
    "    print(X_train.shape, y_train.shape)\n",
    "    print(X_dev.shape, y_dev.shape)\n",
    "    \n",
    "    return X_train, y_train, X_dev, y_dev\n",
    "\n",
    "\n",
    "# Function to create confusion matrix\n",
    "def plot_cm(confusion_matrix : np.array, \n",
    "            classnames : list):\n",
    "    \"\"\"\n",
    "    Function that creates a confusion matrix plot using the Wikipedia convention for the axis. \n",
    "    :param confusion_matrix: confusion matrix that will be plotted\n",
    "    :param classnames: labels of the classes\n",
    "    \n",
    "    Returns:\n",
    "        - Plot of the Confusion Matrix\n",
    "    \"\"\"\n",
    "    \n",
    "    confusionmatrix = confusion_matrix\n",
    "    class_names = classnames             \n",
    "\n",
    "    fig, ax = plt.subplots()\n",
    "    im = plt.imshow(confusionmatrix, cmap='cividis_r')\n",
    "    plt.colorbar()\n",
    "\n",
    "    # We want to show all ticks...\n",
    "    ax.set_xticks(np.arange(len(class_names)))\n",
    "    ax.set_yticks(np.arange(len(class_names)))\n",
    "    # ... and label them with the respective list entries\n",
    "    ax.set_xticklabels(class_names)\n",
    "    ax.set_yticklabels(class_names)\n",
    "\n",
    "    # Rotate the tick labels and set their alignment.\n",
    "    plt.setp(ax.get_xticklabels(), rotation=45, ha=\"right\",\n",
    "             rotation_mode=\"anchor\")\n",
    "\n",
    "    # Loop over data dimensions and create text annotations.\n",
    "    for i in range(len(class_names)):\n",
    "        for j in range(len(class_names)):\n",
    "            text = ax.text(j, i, confusionmatrix[i, j],\n",
    "                           ha=\"center\", va=\"center\", color=\"w\")\n",
    "\n",
    "    ax.set_title(\"Confusion Matrix\")\n",
    "    plt.xlabel('Targets')\n",
    "    plt.ylabel('Predictions')\n",
    "    plt.ylim(top=len(class_names)-0.5)  # adjust the top leaving bottom unchanged\n",
    "    plt.ylim(bottom=-0.5)  # adjust the bottom leaving top unchanged\n",
    "    \n",
    "    return plt.show()\n",
    "\n",
    "\n",
    "################################################################################################\n",
    "labels = {\"Anger\": 1, \"Anticipation\": 2, \"Disgust\": 3, \"Fear\": 4, \"Joy\": 5, \"Sadness\": 6, \"Surprise\": 7, \"Trust\": 8}\n"
   ]
  },
  {
   "cell_type": "markdown",
   "id": "developed-tsunami",
   "metadata": {},
   "source": [
    "<a class=\"anchor\" id=\"knn\">\n",
    "\n",
    "### 5.1) KNN Classifier\n",
    "\n",
    "</a>"
   ]
  },
  {
   "cell_type": "code",
   "execution_count": 238,
   "id": "0706d2c5",
   "metadata": {},
   "outputs": [],
   "source": [
    "# ########## GRID SEARCH ##########\n",
    "# model_KNN = KNeighborsClassifier()\n",
    "\n",
    "# param_KNN = {\n",
    "#     'n_neighbors':[7,9],\n",
    "#     'weights': ['uniform', 'distance'],\n",
    "#     'algorithm' : ['auto', 'brute'], #'brute', 'ball_tree'], \n",
    "#     'leaf_size':[10,30],\n",
    "#     'p' : [1,2],\n",
    "#     'metric' : ['euclidean'], #, 'manhattan', 'minkowski'], #'mahalanobis'],\n",
    "#     'metric_params' : [None],\n",
    "# #     'n_jobs' : [None, -1]\n",
    "# }\n",
    "\n",
    "# model_grid = GridSearchCV(estimator = model_KNN, param_grid = param_KNN, scoring='accuracy', n_jobs=-1, cv=2)\n",
    "\n",
    "# grid_search = model_grid.fit(X_train, y_train)\n",
    "\n",
    "# print(f'Best parameters = {grid_search.best_params_}')\n",
    "# print(f'Best score = {grid_search.best_score_}')"
   ]
  },
  {
   "cell_type": "code",
   "execution_count": 150,
   "id": "7727cf79",
   "metadata": {},
   "outputs": [
    {
     "name": "stderr",
     "output_type": "stream",
     "text": [
      "100%|██████████████████████████████████████████████████████████████████████████| 16000/16000 [00:01<00:00, 9291.53it/s]\n"
     ]
    },
    {
     "name": "stdout",
     "output_type": "stream",
     "text": [
      "(16000, 33499) (16000,)\n",
      "(1000, 33499) (1000,)\n",
      "              precision    recall  f1-score   support\n",
      "\n",
      "       Anger       0.24      0.32      0.27       161\n",
      "Anticipation       0.22      0.27      0.24       141\n",
      "     Disgust       0.17      0.26      0.20        50\n",
      "        Fear       0.20      0.20      0.20       107\n",
      "         Joy       0.30      0.26      0.28       111\n",
      "     Sadness       0.30      0.13      0.18       204\n",
      "    Surprise       0.27      0.17      0.21       151\n",
      "       Trust       0.14      0.29      0.19        75\n",
      "\n",
      "    accuracy                           0.23      1000\n",
      "   macro avg       0.23      0.24      0.22      1000\n",
      "weighted avg       0.25      0.23      0.22      1000\n",
      "\n"
     ]
    }
   ],
   "source": [
    "# clean_df = train_balanced.copy()\n",
    "\n",
    "# updates = clean(clean_df[\"sentence\"], remove_stop = False, lemmatize = False, stemmer = False)\n",
    "# update_df(clean_df, updates)\n",
    "\n",
    "# # Change the propreccesing part !!\n",
    "# X_train, y_train, X_dev, y_dev = cv_vector(cv_2, clean_df, dev)\n",
    "\n",
    "# # Clustering the reviews with a KNN classifier --> TUNE THE PARAMETERES\n",
    "# modelknn = KNeighborsClassifier(n_neighbors=7, weights='distance', algorithm='brute', leaf_size=30, p=2,\n",
    "#                                          metric='cosine', metric_params=None, n_jobs=1)  # 51\n",
    "\n",
    "\n",
    "# # fit the model to the train dataset\n",
    "# modelknn.fit(X_train,y_train)\n",
    "\n",
    "# # predict the labels\n",
    "# knn_predicted = modelknn.predict(X_dev)\n",
    "\n",
    "# # classification report\n",
    "# labels = {\"Anger\": 1, \"Anticipation\": 2, \"Disgust\": 3, \"Fear\": 4, \"Joy\": 5, \"Sadness\": 6, \"Surprise\": 7, \"Trust\": 8}\n",
    "# print (classification_report(knn_predicted, y_dev, target_names=labels.keys()))"
   ]
  },
  {
   "cell_type": "code",
   "execution_count": null,
   "id": "efficient-quality",
   "metadata": {},
   "outputs": [],
   "source": [
    "# # display(confusion_matrix(knn_predicted, y_dev))\n",
    "# plot_cm(confusion_matrix(knn_predicted, y_dev), labels.keys())"
   ]
  },
  {
   "cell_type": "markdown",
   "id": "88129a22",
   "metadata": {},
   "source": [
    "<a class=\"anchor\" id=\"nn\">\n",
    "\n",
    "### 5.2) Neural Network \n",
    "\n",
    "</a>"
   ]
  },
  {
   "cell_type": "code",
   "execution_count": null,
   "id": "f6757a6b",
   "metadata": {},
   "outputs": [
    {
     "name": "stderr",
     "output_type": "stream",
     "text": [
      "100%|██████████████████████████████████████████████████████████████████████████| 16000/16000 [00:01<00:00, 9211.41it/s]\n"
     ]
    },
    {
     "name": "stdout",
     "output_type": "stream",
     "text": [
      "(16000, 47442) (16000,)\n",
      "(1000, 47442) (1000,)\n"
     ]
    }
   ],
   "source": [
    "# clean_df = train_balanced.copy()\n",
    "\n",
    "# updates = clean(clean_df[\"sentence\"], remove_stop = False, lemmatize = True, stemmer = False)\n",
    "# update_df(clean_df, updates)\n",
    "\n",
    "# # Change the propreccesing part !!\n",
    "# X_train, y_train, X_dev, y_dev = cv_vector(cv_2, clean_df, dev)\n",
    "\n",
    "# # Model creation\n",
    "# neural_network = MLPClassifier(\n",
    "    \n",
    "#     hidden_layer_sizes=(100),\n",
    "#     activation='relu',\n",
    "#     solver='adam',\n",
    "#     alpha=0.01,\n",
    "#     batch_size='auto',\n",
    "#     learning_rate='constant',\n",
    "#     learning_rate_init=0.001,\n",
    "# )\n",
    "\n",
    "# # fit the model to the train dataset\n",
    "# neural_network.fit(X_train,y_train)\n",
    "\n",
    "# # predict the labels\n",
    "# nn_predicted = neural_network.predict(X_dev)\n",
    "\n",
    "# # classification report\n",
    "# print (classification_report(nn_predicted, y_dev, target_names=labels.keys()))"
   ]
  },
  {
   "cell_type": "code",
   "execution_count": 240,
   "id": "954212b0",
   "metadata": {},
   "outputs": [
    {
     "data": {
      "text/plain": [
       "array([[70, 26, 13, 16,  6,  9, 13, 18],\n",
       "       [22, 60,  9,  6,  9,  8, 11, 23],\n",
       "       [19,  6, 20,  5,  4,  8,  9, 10],\n",
       "       [20, 14,  3, 35,  4, 13, 12,  7],\n",
       "       [ 3, 16,  3,  5, 39,  9,  7, 18],\n",
       "       [24, 12,  9, 12,  8, 24,  8, 13],\n",
       "       [29, 13,  9,  9,  6,  7, 29, 10],\n",
       "       [24, 23, 11, 16, 21,  9,  7, 59]], dtype=int64)"
      ]
     },
     "metadata": {},
     "output_type": "display_data"
    },
    {
     "data": {
      "image/png": "[encoded data removed]",
      "text/plain": [
       "<Figure size 432x288 with 2 Axes>"
      ]
     },
     "metadata": {
      "needs_background": "light"
     },
     "output_type": "display_data"
    }
   ],
   "source": [
    "# display(confusion_matrix(nn_predicted, y_dev))\n",
    "\n",
    "# plot_cm(confusion_matrix(nn_predicted, y_dev), labels.keys())"
   ]
  },
  {
   "cell_type": "markdown",
   "id": "familiar-civilian",
   "metadata": {},
   "source": [
    "<a class=\"anchor\" id=\"nb\">\n",
    "\n",
    "### 5.3) Naive Bayes\n",
    "\n",
    "</a>"
   ]
  },
  {
   "cell_type": "code",
   "execution_count": 166,
   "id": "a23d170c",
   "metadata": {
    "scrolled": true
   },
   "outputs": [
    {
     "name": "stderr",
     "output_type": "stream",
     "text": [
      "100%|█████████████████████████████████████████████████████████████████████████| 16000/16000 [00:00<00:00, 16194.41it/s]\n"
     ]
    },
    {
     "name": "stdout",
     "output_type": "stream",
     "text": [
      "(16000, 63965) (16000,)\n",
      "(1000, 63965) (1000,)\n",
      "              precision    recall  f1-score   support\n",
      "\n",
      "       Anger       0.29      0.39      0.34       157\n",
      "Anticipation       0.34      0.39      0.37       147\n",
      "     Disgust       0.26      0.18      0.21       110\n",
      "        Fear       0.38      0.31      0.34       124\n",
      "         Joy       0.37      0.46      0.41        79\n",
      "     Sadness       0.33      0.26      0.29       113\n",
      "    Surprise       0.27      0.22      0.24       117\n",
      "       Trust       0.36      0.37      0.37       153\n",
      "\n",
      "    accuracy                           0.33      1000\n",
      "   macro avg       0.33      0.32      0.32      1000\n",
      "weighted avg       0.33      0.33      0.32      1000\n",
      "\n"
     ]
    }
   ],
   "source": [
    "# clean_df = train_balanced.copy()\n",
    "\n",
    "# updates = clean(clean_df[\"sentence\"], remove_stop = False, lemmatize = False, stemmer = False)\n",
    "# update_df(clean_df, updates)\n",
    "\n",
    "# # Change the propreccesing part !!\n",
    "# X_train, y_train, X_dev, y_dev = cv_vector(cv_2, clean_df, dev)\n",
    "\n",
    "# ModelNB = MultinomialNB(alpha=0.5)\n",
    "\n",
    "\n",
    "# # fit the model to the train dataset\n",
    "# ModelNB.fit(X_train,y_train)\n",
    "\n",
    "# # predict the labels\n",
    "# bayes_predicted = ModelNB.predict(X_dev)\n",
    "\n",
    "# # classification report\n",
    "# print (classification_report(bayes_predicted, y_dev, target_names=labels.keys()))"
   ]
  },
  {
   "cell_type": "code",
   "execution_count": null,
   "id": "7629c14e",
   "metadata": {},
   "outputs": [],
   "source": [
    "# # display(confusion_matrix(bayes_predicted, y_dev))\n",
    "# plot_cm(confusion_matrix(bayes_predicted, y_dev), labels.keys())"
   ]
  },
  {
   "cell_type": "markdown",
   "id": "noticed-bolivia",
   "metadata": {},
   "source": [
    "<a class=\"anchor\" id=\"svm\">\n",
    "\n",
    "### 5.4) SVM/SVC\n",
    "\n",
    "</a>"
   ]
  },
  {
   "cell_type": "code",
   "execution_count": 93,
   "id": "0ad1b445",
   "metadata": {},
   "outputs": [],
   "source": [
    "# # Change the propreccesing part !!\n",
    "# X_train, y_train, X_dev, y_dev = cv_vector(cv_2, train_balanced, dev)\n",
    "\n",
    "# # ########## GRID SEARCH ##########\n",
    "# ModelSVM = svm.SVC()\n",
    "    \n",
    "# param_grid = {'C': [0.1,1, 10], \n",
    "#               'gamma': [1,0.1,0.01],\n",
    "#               'kernel': ['rbf', 'poly', 'sigmoid']}\n",
    "\n",
    "\n",
    "# model_grid = GridSearchCV(estimator = ModelSVM, param_grid = param_grid, scoring='accuracy', n_jobs=-1, cv=2)\n",
    "\n",
    "# grid_search = model_grid.fit(X_train, y_train)\n",
    "\n",
    "# print(f'Best parameters = {grid_search.best_params_}')\n",
    "# print(f'Best score = {grid_search.best_score_}')"
   ]
  },
  {
   "cell_type": "code",
   "execution_count": 158,
   "id": "f63de238",
   "metadata": {},
   "outputs": [
    {
     "name": "stderr",
     "output_type": "stream",
     "text": [
      "100%|██████████████████████████████████████████████████████████████████████████| 16000/16000 [00:01<00:00, 8072.66it/s]\n"
     ]
    },
    {
     "name": "stdout",
     "output_type": "stream",
     "text": [
      "(16000, 33497) (16000,)\n",
      "(1000, 33497) (1000,)\n",
      "              precision    recall  f1-score   support\n",
      "\n",
      "       Anger       0.31      0.43      0.36       151\n",
      "Anticipation       0.28      0.37      0.32       127\n",
      "     Disgust       0.18      0.26      0.21        54\n",
      "        Fear       0.22      0.27      0.24        84\n",
      "         Joy       0.41      0.37      0.39       108\n",
      "     Sadness       0.08      0.13      0.10        52\n",
      "    Surprise       0.58      0.18      0.27       315\n",
      "       Trust       0.25      0.36      0.29       109\n",
      "\n",
      "    accuracy                           0.29      1000\n",
      "   macro avg       0.29      0.30      0.27      1000\n",
      "weighted avg       0.37      0.29      0.29      1000\n",
      "\n"
     ]
    }
   ],
   "source": [
    "# clean_df = train_balanced.copy()\n",
    "\n",
    "# updates = clean(clean_df[\"sentence\"], remove_stop = False, lemmatize = False, stemmer = False)\n",
    "# update_df(clean_df, updates)\n",
    "\n",
    "# # Change the propreccesing part !!\n",
    "# X_train, y_train, X_dev, y_dev = cv_vector(cv_2, clean_df, dev)\n",
    "\n",
    "# # ModelSVM = svm.SVC(C=10, kernel='linear', degree=3, gamma=0.01) # rbf\n",
    "# ModelSVM = svm.SVC(kernel='linear') # rbf\n",
    "\n",
    "\n",
    "# # fit the model to the train dataset\n",
    "# ModelSVM.fit(X_train,y_train)\n",
    "\n",
    "# # predict the labels\n",
    "# svm_predicted = ModelSVM.predict(X_dev)\n",
    "\n",
    "# # classification report\n",
    "# print (classification_report(svm_predicted, y_dev, target_names=labels.keys()))"
   ]
  },
  {
   "cell_type": "code",
   "execution_count": 100,
   "id": "c2e2a64d",
   "metadata": {},
   "outputs": [
    {
     "data": {
      "image/png": "[encoded data removed]",
      "text/plain": [
       "<Figure size 432x288 with 2 Axes>"
      ]
     },
     "metadata": {
      "needs_background": "light"
     },
     "output_type": "display_data"
    }
   ],
   "source": [
    "# # display(confusion_matrix(bayes_predicted, y_dev))\n",
    "# plot_cm(confusion_matrix(svm_predicted, y_dev), labels.keys())"
   ]
  },
  {
   "cell_type": "code",
   "execution_count": null,
   "id": "peripheral-madonna",
   "metadata": {},
   "outputs": [],
   "source": [
    "# # apply count vectorizer to the dev dataset\n",
    "# val = cv.transform(dev_preprocessed[\"sentence\"])\n",
    "\n",
    "# # predict the labels of the dev dataset\n",
    "# predict = ModelSVM.predict(val)\n",
    "\n",
    "# svm_predicted_train=ModelSVM.predict(X_train)"
   ]
  },
  {
   "cell_type": "code",
   "execution_count": null,
   "id": "human-statement",
   "metadata": {},
   "outputs": [],
   "source": [
    "# labels = {\"Anger\": 1, \"Anticipation\": 2, \"Disgust\": 3, \"Fear\": 4, \"Joy\": 5, \"Sadness\": 6, \"Surprise\": 7, \"Trust\": 8}\n",
    "\n",
    "# print('Train:\\n')\n",
    "# print (classification_report(svm_predicted_train, y_train, target_names=labels.keys()))\n",
    "# print('\\nValidation:')\n",
    "# print (classification_report(predict, y_dev, target_names=labels.keys()))"
   ]
  },
  {
   "cell_type": "code",
   "execution_count": null,
   "id": "changing-framing",
   "metadata": {},
   "outputs": [],
   "source": [
    "# plot_cm(confusion_matrix(predict, y_svm), labels.keys())"
   ]
  },
  {
   "cell_type": "markdown",
   "id": "global-brief",
   "metadata": {},
   "source": [
    "<a class=\"anchor\" id=\"gb\">\n",
    "\n",
    "### 5.5) Gradient Boosting\n",
    "\n",
    "</a>"
   ]
  },
  {
   "cell_type": "code",
   "execution_count": null,
   "id": "bigger-universal",
   "metadata": {},
   "outputs": [],
   "source": [
    "# X_train = cv.fit_transform(train_[\"sentence\"])\n",
    "# y_train = np.array(train_over[\"emotion\"])\n",
    "# X_dev = cv.transform(dev[\"sentence\"])\n",
    "# y_dev = np.array(dev[\"emotion\"])"
   ]
  },
  {
   "cell_type": "code",
   "execution_count": null,
   "id": "cathedral-alexander",
   "metadata": {},
   "outputs": [],
   "source": [
    "# gb_clf = GradientBoostingClassifier(n_estimators=1000, learning_rate= 0.25, max_features=2, max_depth=2, random_state=0)\n",
    "# gb_clf.fit(X_train, y_train)\n",
    "\n",
    "# #print(\"Learning rate: \", learning_rate)\n",
    "# print(\"Accuracy score (training): {0:.3f}\".format(gb_clf.score(X_train, y_train)))\n",
    "# print(\"Accuracy score (validation): {0:.3f}\".format(gb_clf.score(X_dev, y_dev)))"
   ]
  },
  {
   "cell_type": "code",
   "execution_count": null,
   "id": "a833b4b3",
   "metadata": {},
   "outputs": [],
   "source": [
    "# labels = {\"Anger\": 1, \"Anticipation\": 2, \"Disgust\": 3, \"Fear\": 4, \"Joy\": 5, \"Sadness\": 6, \"Surprise\": 7, \"Trust\": 8}\n",
    "\n",
    "# gb_predicted_train=gb_clf.predict(X_train)\n",
    "# predict=gb_clf.predict(X_dev)\n",
    "\n",
    "\n",
    "# print('Train:\\n')\n",
    "# print (classification_report(gb_predicted_train, y_train, target_names=labels.keys()))\n",
    "# print('\\nValidation:')\n",
    "# print (classification_report(predict, y_dev, target_names=labels.keys()))"
   ]
  },
  {
   "cell_type": "code",
   "execution_count": null,
   "id": "operational-dispatch",
   "metadata": {},
   "outputs": [],
   "source": [
    "# gb_clf = GradientBoostingClassifier(n_estimators=5000, learning_rate= 0.75, max_features=2, max_depth=4, random_state=0)\n",
    "# gb_clf.fit(X_train, y_train)"
   ]
  },
  {
   "cell_type": "markdown",
   "id": "spoken-advice",
   "metadata": {},
   "source": [
    "<a class=\"anchor\" id=\"bert\">\n",
    "\n",
    "### 5.6) BERT Model\n",
    "\n",
    "</a>"
   ]
  },
  {
   "cell_type": "markdown",
   "id": "enabling-absolute",
   "metadata": {},
   "source": [
    "#### BERT Model was implemented in Google Colab due to the amount of time it took to run in the jupyter notebook"
   ]
  },
  {
   "cell_type": "code",
   "execution_count": null,
   "id": "driving-finger",
   "metadata": {},
   "outputs": [],
   "source": [
    "from tensorflow.keras.utils import to_categorical\n",
    "import transformers\n",
    "from transformers import AutoTokenizer,TFBertModel\n",
    "\n",
    "import tensorflow as tf\n",
    "from tensorflow.keras.optimizers import Adam\n",
    "from tensorflow.keras.callbacks import EarlyStopping\n",
    "from tensorflow.keras.initializers import TruncatedNormal\n",
    "from tensorflow.keras.losses import CategoricalCrossentropy\n",
    "from tensorflow.keras.metrics import CategoricalAccuracy\n",
    "from tensorflow.keras.utils import to_categorical\n",
    "from tensorflow.keras.layers import Input, Dense\n",
    "\n",
    "from sklearn.metrics import classification_report"
   ]
  },
  {
   "cell_type": "code",
   "execution_count": null,
   "id": "efficient-illinois",
   "metadata": {},
   "outputs": [],
   "source": [
    "y_train = to_categorical(train_balanced.emotion)\n",
    "y_dev = to_categorical(dev.emotion)"
   ]
  },
  {
   "cell_type": "code",
   "execution_count": null,
   "id": "established-cologne",
   "metadata": {},
   "outputs": [],
   "source": [
    "tokenizer = AutoTokenizer.from_pretrained(\"bert-base-cased\")\n",
    "bert = TFBertModel.from_pretrained(\"bert-base-cased\")"
   ]
  },
  {
   "cell_type": "code",
   "execution_count": null,
   "id": "still-sterling",
   "metadata": {},
   "outputs": [],
   "source": [
    "# Tokenize the input (takes some time) \n",
    "# here tokenizer using from bert-base-cased\n",
    "x_train = tokenizer(\n",
    "    text=train_balanced.sentence.tolist(),\n",
    "    add_special_tokens=True,\n",
    "    max_length=38,\n",
    "    truncation=True,\n",
    "    padding=True, \n",
    "    return_tensors='tf',\n",
    "    return_token_type_ids = False,\n",
    "    return_attention_mask = True,\n",
    "    verbose = True)\n",
    "\n",
    "x_dev = tokenizer(\n",
    "    text=dev.sentence.tolist(),\n",
    "    add_special_tokens=True,\n",
    "    max_length=38,\n",
    "    truncation=True,\n",
    "    padding=True, \n",
    "    return_tensors='tf',\n",
    "    return_token_type_ids = False,\n",
    "    return_attention_mask = True,\n",
    "    verbose = True)"
   ]
  },
  {
   "cell_type": "code",
   "execution_count": null,
   "id": "brilliant-wesley",
   "metadata": {},
   "outputs": [],
   "source": [
    "input_ids = x_train[\"input_ids\"]\n",
    "attention_mask = x_train['attention_mask']"
   ]
  },
  {
   "cell_type": "code",
   "execution_count": null,
   "id": "cutting-regulation",
   "metadata": {},
   "outputs": [],
   "source": [
    "max_len = 38\n",
    "input_ids = Input(shape=(max_len,), dtype=tf.int32, name=\"input_ids\")\n",
    "input_mask = Input(shape=(max_len,), dtype=tf.int32, name=\"attention_mask\")\n",
    "embeddings = bert(input_ids,attention_mask = input_mask)[0] \n",
    "out = tf.keras.layers.GlobalMaxPool1D()(embeddings)\n",
    "out = Dense(128, activation='relu')(out)\n",
    "out = tf.keras.layers.Dropout(0.1)(out)\n",
    "out = Dense(32,activation = 'relu')(out)\n",
    "y = Dense(9,activation = 'sigmoid')(out)\n",
    "model = tf.keras.Model(inputs=[input_ids, input_mask], outputs=y)\n",
    "model.layers[2].trainable = True"
   ]
  },
  {
   "cell_type": "code",
   "execution_count": null,
   "id": "legitimate-technique",
   "metadata": {},
   "outputs": [],
   "source": [
    "optimizer = Adam(\n",
    "    learning_rate=5e-05, # this learning rate is for bert model , taken from huggingface website \n",
    "    epsilon=1e-08,\n",
    "    decay=0.01,\n",
    "    clipnorm=1.0)\n",
    "# Set loss and metrics\n",
    "loss =CategoricalCrossentropy(from_logits = True)\n",
    "metric = CategoricalAccuracy('balanced_accuracy'),\n",
    "# Compile the model\n",
    "model.compile(\n",
    "    optimizer = optimizer,\n",
    "    loss = loss, \n",
    "    metrics = metric)"
   ]
  },
  {
   "cell_type": "code",
   "execution_count": null,
   "id": "british-recording",
   "metadata": {},
   "outputs": [],
   "source": [
    "train_history = model.fit(\n",
    "    x ={'input_ids':x_train['input_ids'],'attention_mask':x_train['attention_mask']} ,\n",
    "    y = y_train,\n",
    "    validation_data = (\n",
    "    {'input_ids':x_dev['input_ids'],'attention_mask':x_dev['attention_mask']}, y_dev\n",
    "    ),\n",
    "  epochs=10,\n",
    "    batch_size=36\n",
    ")"
   ]
  },
  {
   "cell_type": "code",
   "execution_count": null,
   "id": "collective-energy",
   "metadata": {},
   "outputs": [],
   "source": [
    "# VALIDATION CLASSIFICATION REPORT\n",
    "predicted_raw = model.predict({'input_ids':x_dev['input_ids'],'attention_mask':x_dev['attention_mask']})\n",
    "dev_y_predicted = np.argmax(predicted_raw, axis = 1)\n",
    "y_true = dev.emotion\n",
    "\n",
    "print(classification_report(y_true, dev_y_predicted))"
   ]
  },
  {
   "cell_type": "code",
   "execution_count": null,
   "id": "planned-fabric",
   "metadata": {},
   "outputs": [],
   "source": [
    "# TRAIN CLASSIFICATION REPORT\n",
    "train_predicted_raw = model.predict({'input_ids':x_train['input_ids'],'attention_mask':x_train['attention_mask']})\n",
    "train_y_predicted = np.argmax(train_predicted_raw, axis = 1)\n",
    "train_y_true = train_balanced.emotion\n",
    "\n",
    "print(classification_report(train_y_true, train_y_predicted))"
   ]
  },
  {
   "cell_type": "code",
   "execution_count": null,
   "id": "40a9f5ca",
   "metadata": {},
   "outputs": [],
   "source": [
    "dev_deliver = pd.DataFrame({'sentence': dev['sentence'], 'emotion': dev_y_predicted})"
   ]
  },
  {
   "cell_type": "code",
   "execution_count": null,
   "id": "3f9dc3c0",
   "metadata": {},
   "outputs": [],
   "source": [
    "dev_deliver[\"sentence\"] = dev_deliver[\"sentence\"].apply(str)\n",
    "dev_deliver[\"emotion\"] = dev_deliver[\"emotion\"].apply(str)\n",
    "dev_deliver[\"answer\"] = dev_deliver[[\"sentence\",\"emotion\"]].agg(\"    \".join, axis=1)"
   ]
  },
  {
   "cell_type": "code",
   "execution_count": null,
   "id": "e09b96c1",
   "metadata": {},
   "outputs": [],
   "source": [
    "with open(\"test_results.txt\", \"w\", encoding='utf-8') as output:\n",
    "    for answer in dev_labels[\"answer\"].values:\n",
    "        output.write(answer+'\\n') "
   ]
  },
  {
   "cell_type": "markdown",
   "id": "usual-interface",
   "metadata": {},
   "source": [
    "<a class=\"anchor\" id=\"test\">\n",
    "\n",
    "## 6) Test set\n",
    "\n",
    "</a>\n",
    "\n",
    "  [Back to table of contents](#title)"
   ]
  },
  {
   "cell_type": "code",
   "execution_count": null,
   "id": "sapphire-breakfast",
   "metadata": {},
   "outputs": [],
   "source": [
    "test = pd.read_table('/content/gdrive/MyDrive/TM_Project/test_set.txt', delimiter=\"\\t\")\n",
    "\n",
    "test_orig = test.copy()\n",
    "\n",
    "updates = clean(test[\"sentence\"], lemmatize = False, stemmer = False)\n",
    "update_df(test, updates)"
   ]
  },
  {
   "cell_type": "code",
   "execution_count": null,
   "id": "compound-sarah",
   "metadata": {},
   "outputs": [],
   "source": [
    "x_test = tokenizer(\n",
    "    text=test.sentence.tolist(),\n",
    "    add_special_tokens=True,\n",
    "    max_length=38,\n",
    "    truncation=True,\n",
    "    padding=True, \n",
    "    return_tensors='tf',\n",
    "    return_token_type_ids = False,\n",
    "    return_attention_mask = True,\n",
    "    verbose = True)"
   ]
  },
  {
   "cell_type": "code",
   "execution_count": null,
   "id": "detected-soldier",
   "metadata": {},
   "outputs": [],
   "source": [
    "# TEST PREDICTION\n",
    "test_predicted_raw = model.predict({'input_ids':x_test['input_ids'],'attention_mask':x_test['attention_mask']})\n",
    "test_y_predicted = np.argmax(test_predicted_raw, axis = 1)"
   ]
  },
  {
   "cell_type": "code",
   "execution_count": 2,
   "id": "primary-canberra",
   "metadata": {},
   "outputs": [],
   "source": [
    "test_deliver = pd.DataFrame({'sentence': test_orig['sentence'], 'emotion': test_y_predicted})"
   ]
  },
  {
   "cell_type": "code",
   "execution_count": 4,
   "id": "intended-regulation",
   "metadata": {},
   "outputs": [],
   "source": [
    "test_deliver[\"sentence\"] = test_deliver[\"sentence\"].apply(str)\n",
    "test_deliver[\"emotion\"] = test_deliver[\"emotion\"].apply(str)\n",
    "test_deliver[\"answer\"] = test_deliver[[\"sentence\",\"emotion\"]].agg(\"    \".join, axis=1)"
   ]
  },
  {
   "cell_type": "code",
   "execution_count": 37,
   "id": "0c1a2e17",
   "metadata": {},
   "outputs": [],
   "source": [
    "with open(\"test_results.txt\", \"w\", encoding='utf-8') as output:\n",
    "    for answer in test_deliver[\"answer\"].values:\n",
    "        output.write(answer+'\\n')"
   ]
  },
  {
   "cell_type": "code",
   "execution_count": null,
   "id": "00451e3b",
   "metadata": {},
   "outputs": [],
   "source": [
    "x_test = tokenizer(\n",
    "    text=test.sentence.tolist(),\n",
    "    add_special_tokens=True,\n",
    "    max_length=38,\n",
    "    truncation=True,\n",
    "    padding=True, \n",
    "    return_tensors='tf',\n",
    "    return_token_type_ids = False,\n",
    "    return_attention_mask = True,\n",
    "    verbose = True)\n",
    "\n",
    "# TEST PREDICTION\n",
    "test_predicted_raw = model.predict({'input_ids':x_test['input_ids'],'attention_mask':x_test['attention_mask']})\n",
    "test_y_predicted = np.argmax(test_predicted_raw, axis = 1)\n",
    "\n",
    "test_deliver = pd.DataFrame({'sentence': test_orig['sentence'], 'emotion': test_y_predicted})"
   ]
  }
 ],
 "metadata": {
  "kernelspec": {
   "display_name": "Python 3 (ipykernel)",
   "language": "python",
   "name": "python3"
  },
  "language_info": {
   "codemirror_mode": {
    "name": "ipython",
    "version": 3
   },
   "file_extension": ".py",
   "mimetype": "text/x-python",
   "name": "python",
   "nbconvert_exporter": "python",
   "pygments_lexer": "ipython3",
   "version": "3.8.13"
  }
 },
 "nbformat": 4,
 "nbformat_minor": 5
}
